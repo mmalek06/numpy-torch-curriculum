{
 "cells": [
  {
   "cell_type": "code",
   "id": "initial_id",
   "metadata": {
    "collapsed": true,
    "ExecuteTime": {
     "end_time": "2025-09-22T16:12:06.849164Z",
     "start_time": "2025-09-22T16:12:06.845211Z"
    }
   },
   "source": "import numpy as np",
   "outputs": [],
   "execution_count": 2
  },
  {
   "metadata": {
    "ExecuteTime": {
     "end_time": "2025-09-22T16:12:06.896014Z",
     "start_time": "2025-09-22T16:12:06.885341Z"
    }
   },
   "cell_type": "code",
   "source": [
    "img = np.arange(16).reshape((4, 4)) + 1\n",
    "img"
   ],
   "id": "f2c06c3f5f174d49",
   "outputs": [
    {
     "data": {
      "text/plain": [
       "array([[ 1,  2,  3,  4],\n",
       "       [ 5,  6,  7,  8],\n",
       "       [ 9, 10, 11, 12],\n",
       "       [13, 14, 15, 16]])"
      ]
     },
     "execution_count": 3,
     "metadata": {},
     "output_type": "execute_result"
    }
   ],
   "execution_count": 3
  },
  {
   "metadata": {
    "ExecuteTime": {
     "end_time": "2025-09-22T16:12:06.980676Z",
     "start_time": "2025-09-22T16:12:06.977964Z"
    }
   },
   "cell_type": "code",
   "source": [
    "def box_sum(img: np.ndarray, k: int) -> tuple[np.ndarray, np.ndarray]:\n",
    "    h, w = img.shape\n",
    "    size_y = h - k + 1\n",
    "    size_x = w - k + 1\n",
    "    hv_padded = np.pad(img, ((1, 0), (1, 0)), mode=\"constant\")\n",
    "    sums = np.zeros((size_y, size_x), dtype=np.int32)\n",
    "\n",
    "    for y in range(1, hv_padded.shape[0]):\n",
    "        running_sum = 0\n",
    "\n",
    "        for x in range(1, hv_padded.shape[1]):\n",
    "            # subtract the diagonal element to prevent double-counting\n",
    "            running_sum += hv_padded[y, x] + hv_padded[y - 1, x] - hv_padded[y - 1, x - 1]\n",
    "            hv_padded[y, x] = running_sum\n",
    "\n",
    "            if y >= k and x >= k:\n",
    "                box_sum = hv_padded[y, x] - hv_padded[y, x - k] - hv_padded[y - k, x] + hv_padded[y - k, x - k]\n",
    "                sums[y - k, x - k] = box_sum\n",
    "\n",
    "    return hv_padded, sums"
   ],
   "id": "904a35de63fadba3",
   "outputs": [],
   "execution_count": 4
  },
  {
   "metadata": {
    "ExecuteTime": {
     "end_time": "2025-09-22T16:12:14.833379Z",
     "start_time": "2025-09-22T16:12:14.831101Z"
    }
   },
   "cell_type": "code",
   "source": [
    "k = 3\n",
    "\n",
    "ii, sum = box_sum(img, k)"
   ],
   "id": "a53c7f4e48385a0b",
   "outputs": [],
   "execution_count": 9
  },
  {
   "metadata": {
    "ExecuteTime": {
     "end_time": "2025-09-22T16:12:16.112554Z",
     "start_time": "2025-09-22T16:12:16.109991Z"
    }
   },
   "cell_type": "code",
   "source": "ii",
   "id": "b155833e14943ebd",
   "outputs": [
    {
     "data": {
      "text/plain": [
       "array([[  0,   0,   0,   0,   0],\n",
       "       [  0,   1,   3,   6,  10],\n",
       "       [  0,   6,  14,  24,  36],\n",
       "       [  0,  15,  33,  54,  78],\n",
       "       [  0,  28,  60,  96, 136]])"
      ]
     },
     "execution_count": 10,
     "metadata": {},
     "output_type": "execute_result"
    }
   ],
   "execution_count": 10
  },
  {
   "metadata": {
    "ExecuteTime": {
     "end_time": "2025-09-22T16:12:17.571095Z",
     "start_time": "2025-09-22T16:12:17.568485Z"
    }
   },
   "cell_type": "code",
   "source": "sum",
   "id": "f54b6a7e085b2117",
   "outputs": [
    {
     "data": {
      "text/plain": [
       "array([[54, 63],\n",
       "       [90, 99]], dtype=int32)"
      ]
     },
     "execution_count": 11,
     "metadata": {},
     "output_type": "execute_result"
    }
   ],
   "execution_count": 11
  },
  {
   "metadata": {
    "ExecuteTime": {
     "end_time": "2025-09-22T16:12:07.571850Z",
     "start_time": "2025-09-22T16:12:07.459058Z"
    }
   },
   "cell_type": "code",
   "source": [
    "from numpy.lib.stride_tricks import sliding_window_view\n",
    "\n",
    "\n",
    "def _ref_box_sum(img: np.ndarray, k: int) -> np.ndarray:\n",
    "    w = sliding_window_view(img, (k, k))\n",
    "\n",
    "    return w.astype(np.float64).sum(axis=(2, 3))\n",
    "\n",
    "def run_box_sum_tests(box_sum_fn):\n",
    "    rng = np.random.default_rng(42)\n",
    "    cases = [\n",
    "        (rng.integers(0, 10,  (3, 3),  dtype=np.int32),  [2]),\n",
    "        (rng.integers(0, 255, (5, 7),  dtype=np.uint8),  [2, 3]),\n",
    "        (rng.integers(-50, 50, (16, 10), dtype=np.int32), [3, 4]),\n",
    "        (rng.integers(0, 1000,(12, 12), dtype=np.int64), [6]),\n",
    "    ]\n",
    "\n",
    "    for idx, (img, ks) in enumerate(cases, 1):\n",
    "        for k in ks:\n",
    "            ref = _ref_box_sum(img, k)\n",
    "            _, out = box_sum_fn(img, k)\n",
    "            np.testing.assert_allclose(\n",
    "                np.asarray(out, dtype=np.float64),\n",
    "                np.asarray(ref, dtype=np.float64),\n",
    "                rtol=0, atol=0\n",
    "            )\n",
    "    print(\"All box_sum tests passed on 5 matrices and multiple window sizes.\")\n",
    "\n",
    "\n",
    "run_box_sum_tests(box_sum)"
   ],
   "id": "51314cc2bcba087b",
   "outputs": [
    {
     "name": "stderr",
     "output_type": "stream",
     "text": [
      "/tmp/ipykernel_97658/588365313.py:13: RuntimeWarning: overflow encountered in scalar add\n",
      "  running_sum += hv_padded[y, x] + hv_padded[y - 1, x] - hv_padded[y - 1, x - 1]\n",
      "/tmp/ipykernel_97658/588365313.py:13: RuntimeWarning: overflow encountered in scalar subtract\n",
      "  running_sum += hv_padded[y, x] + hv_padded[y - 1, x] - hv_padded[y - 1, x - 1]\n",
      "/tmp/ipykernel_97658/588365313.py:17: RuntimeWarning: overflow encountered in scalar subtract\n",
      "  box_sum = hv_padded[y, x] - hv_padded[y, x - k] - hv_padded[y - k, x] + hv_padded[y - k, x - k]\n",
      "/tmp/ipykernel_97658/588365313.py:17: RuntimeWarning: overflow encountered in scalar add\n",
      "  box_sum = hv_padded[y, x] - hv_padded[y, x - k] - hv_padded[y - k, x] + hv_padded[y - k, x - k]\n"
     ]
    },
    {
     "ename": "AssertionError",
     "evalue": "\nNot equal to tolerance rtol=0, atol=0\n\nMismatched elements: 23 / 24 (95.8%)\nMax absolute difference among violations: 768.\nMax relative difference among violations: 0.9974026\n ACTUAL: array([[ 37., 104.,  84.,  91.,  69., 203.],\n       [133.,  54.,  92., 158.,   2., 179.],\n       [ 85.,  74., 146.,   8.,  85.,   2.],\n       [ 35., 146.,  59., 186., 221., 218.]])\n DESIRED: array([[549., 360., 340., 603., 581., 459.],\n       [645., 566., 348., 670., 770., 435.],\n       [597., 586., 402., 520., 597., 514.],\n       [547., 658., 571., 442., 221., 474.]])",
     "output_type": "error",
     "traceback": [
      "\u001B[31m---------------------------------------------------------------------------\u001B[39m",
      "\u001B[31mAssertionError\u001B[39m                            Traceback (most recent call last)",
      "\u001B[36mCell\u001B[39m\u001B[36m \u001B[39m\u001B[32mIn[8]\u001B[39m\u001B[32m, line 30\u001B[39m\n\u001B[32m     22\u001B[39m             np.testing.assert_allclose(\n\u001B[32m     23\u001B[39m                 np.asarray(out, dtype=np.float64),\n\u001B[32m     24\u001B[39m                 np.asarray(ref, dtype=np.float64),\n\u001B[32m     25\u001B[39m                 rtol=\u001B[32m0\u001B[39m, atol=\u001B[32m0\u001B[39m\n\u001B[32m     26\u001B[39m             )\n\u001B[32m     27\u001B[39m     \u001B[38;5;28mprint\u001B[39m(\u001B[33m\"\u001B[39m\u001B[33mAll box_sum tests passed on 5 matrices and multiple window sizes.\u001B[39m\u001B[33m\"\u001B[39m)\n\u001B[32m---> \u001B[39m\u001B[32m30\u001B[39m \u001B[43mrun_box_sum_tests\u001B[49m\u001B[43m(\u001B[49m\u001B[43mbox_sum\u001B[49m\u001B[43m)\u001B[49m\n",
      "\u001B[36mCell\u001B[39m\u001B[36m \u001B[39m\u001B[32mIn[8]\u001B[39m\u001B[32m, line 22\u001B[39m, in \u001B[36mrun_box_sum_tests\u001B[39m\u001B[34m(box_sum_fn)\u001B[39m\n\u001B[32m     20\u001B[39m         ref = _ref_box_sum(img, k)\n\u001B[32m     21\u001B[39m         _, out = box_sum_fn(img, k)\n\u001B[32m---> \u001B[39m\u001B[32m22\u001B[39m         \u001B[43mnp\u001B[49m\u001B[43m.\u001B[49m\u001B[43mtesting\u001B[49m\u001B[43m.\u001B[49m\u001B[43massert_allclose\u001B[49m\u001B[43m(\u001B[49m\n\u001B[32m     23\u001B[39m \u001B[43m            \u001B[49m\u001B[43mnp\u001B[49m\u001B[43m.\u001B[49m\u001B[43masarray\u001B[49m\u001B[43m(\u001B[49m\u001B[43mout\u001B[49m\u001B[43m,\u001B[49m\u001B[43m \u001B[49m\u001B[43mdtype\u001B[49m\u001B[43m=\u001B[49m\u001B[43mnp\u001B[49m\u001B[43m.\u001B[49m\u001B[43mfloat64\u001B[49m\u001B[43m)\u001B[49m\u001B[43m,\u001B[49m\n\u001B[32m     24\u001B[39m \u001B[43m            \u001B[49m\u001B[43mnp\u001B[49m\u001B[43m.\u001B[49m\u001B[43masarray\u001B[49m\u001B[43m(\u001B[49m\u001B[43mref\u001B[49m\u001B[43m,\u001B[49m\u001B[43m \u001B[49m\u001B[43mdtype\u001B[49m\u001B[43m=\u001B[49m\u001B[43mnp\u001B[49m\u001B[43m.\u001B[49m\u001B[43mfloat64\u001B[49m\u001B[43m)\u001B[49m\u001B[43m,\u001B[49m\n\u001B[32m     25\u001B[39m \u001B[43m            \u001B[49m\u001B[43mrtol\u001B[49m\u001B[43m=\u001B[49m\u001B[32;43m0\u001B[39;49m\u001B[43m,\u001B[49m\u001B[43m \u001B[49m\u001B[43matol\u001B[49m\u001B[43m=\u001B[49m\u001B[32;43m0\u001B[39;49m\n\u001B[32m     26\u001B[39m \u001B[43m        \u001B[49m\u001B[43m)\u001B[49m\n\u001B[32m     27\u001B[39m \u001B[38;5;28mprint\u001B[39m(\u001B[33m\"\u001B[39m\u001B[33mAll box_sum tests passed on 5 matrices and multiple window sizes.\u001B[39m\u001B[33m\"\u001B[39m)\n",
      "    \u001B[31m[... skipping hidden 1 frame]\u001B[39m\n",
      "\u001B[36mFile \u001B[39m\u001B[32m~/repos/learning/numpy_pytorch_curriculum/.venv/lib/python3.13/site-packages/numpy/testing/_private/utils.py:926\u001B[39m, in \u001B[36massert_array_compare\u001B[39m\u001B[34m(comparison, x, y, err_msg, verbose, header, precision, equal_nan, equal_inf, strict, names)\u001B[39m\n\u001B[32m    921\u001B[39m         err_msg += \u001B[33m'\u001B[39m\u001B[38;5;130;01m\\n\u001B[39;00m\u001B[33m'\u001B[39m + \u001B[33m'\u001B[39m\u001B[38;5;130;01m\\n\u001B[39;00m\u001B[33m'\u001B[39m.join(remarks)\n\u001B[32m    922\u001B[39m         msg = build_err_msg([ox, oy], err_msg,\n\u001B[32m    923\u001B[39m                             verbose=verbose, header=header,\n\u001B[32m    924\u001B[39m                             names=names,\n\u001B[32m    925\u001B[39m                             precision=precision)\n\u001B[32m--> \u001B[39m\u001B[32m926\u001B[39m         \u001B[38;5;28;01mraise\u001B[39;00m \u001B[38;5;167;01mAssertionError\u001B[39;00m(msg)\n\u001B[32m    927\u001B[39m \u001B[38;5;28;01mexcept\u001B[39;00m \u001B[38;5;167;01mValueError\u001B[39;00m:\n\u001B[32m    928\u001B[39m     \u001B[38;5;28;01mimport\u001B[39;00m\u001B[38;5;250m \u001B[39m\u001B[34;01mtraceback\u001B[39;00m\n",
      "\u001B[31mAssertionError\u001B[39m: \nNot equal to tolerance rtol=0, atol=0\n\nMismatched elements: 23 / 24 (95.8%)\nMax absolute difference among violations: 768.\nMax relative difference among violations: 0.9974026\n ACTUAL: array([[ 37., 104.,  84.,  91.,  69., 203.],\n       [133.,  54.,  92., 158.,   2., 179.],\n       [ 85.,  74., 146.,   8.,  85.,   2.],\n       [ 35., 146.,  59., 186., 221., 218.]])\n DESIRED: array([[549., 360., 340., 603., 581., 459.],\n       [645., 566., 348., 670., 770., 435.],\n       [597., 586., 402., 520., 597., 514.],\n       [547., 658., 571., 442., 221., 474.]])"
     ]
    }
   ],
   "execution_count": 8
  },
  {
   "metadata": {
    "ExecuteTime": {
     "end_time": "2025-09-22T16:12:07.573847882Z",
     "start_time": "2025-09-21T08:19:51.725110Z"
    }
   },
   "cell_type": "code",
   "source": "",
   "id": "7911da549c7a7f63",
   "outputs": [],
   "execution_count": null
  }
 ],
 "metadata": {
  "kernelspec": {
   "display_name": "Python 3",
   "language": "python",
   "name": "python3"
  },
  "language_info": {
   "codemirror_mode": {
    "name": "ipython",
    "version": 2
   },
   "file_extension": ".py",
   "mimetype": "text/x-python",
   "name": "python",
   "nbconvert_exporter": "python",
   "pygments_lexer": "ipython2",
   "version": "2.7.6"
  }
 },
 "nbformat": 4,
 "nbformat_minor": 5
}
