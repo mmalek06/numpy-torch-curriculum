{
 "cells": [
  {
   "cell_type": "code",
   "id": "initial_id",
   "metadata": {
    "collapsed": true,
    "ExecuteTime": {
     "end_time": "2025-09-21T08:19:51.058261Z",
     "start_time": "2025-09-21T08:19:51.056814Z"
    }
   },
   "source": "import numpy as np",
   "outputs": [],
   "execution_count": 192
  },
  {
   "metadata": {
    "ExecuteTime": {
     "end_time": "2025-09-21T08:19:51.064134Z",
     "start_time": "2025-09-21T08:19:51.062225Z"
    }
   },
   "cell_type": "code",
   "source": [
    "img = np.arange(9).reshape((3, 3)) + 1\n",
    "img"
   ],
   "id": "f2c06c3f5f174d49",
   "outputs": [
    {
     "data": {
      "text/plain": [
       "array([[1, 2, 3],\n",
       "       [4, 5, 6],\n",
       "       [7, 8, 9]])"
      ]
     },
     "execution_count": 193,
     "metadata": {},
     "output_type": "execute_result"
    }
   ],
   "execution_count": 193
  },
  {
   "metadata": {
    "ExecuteTime": {
     "end_time": "2025-09-21T08:19:51.157935Z",
     "start_time": "2025-09-21T08:19:51.155345Z"
    }
   },
   "cell_type": "code",
   "source": [
    "def pad_array(array: np.ndarray) -> np.ndarray:\n",
    "    h_padded = np.vstack((\n",
    "        np.zeros((array.shape[1],)),\n",
    "        array\n",
    "    ))\n",
    "    hv_padded = np.hstack((\n",
    "        np.zeros((h_padded.shape[0], 1)),\n",
    "        h_padded\n",
    "    ))\n",
    "\n",
    "    return hv_padded\n",
    "\n",
    "\n",
    "def box_sum(img: np.ndarray, k: int) -> tuple[np.ndarray, np.ndarray]:\n",
    "    h, w = img.shape\n",
    "    size_y = h - k + 1\n",
    "    size_x = w - k + 1\n",
    "    hv_padded = pad_array(img)\n",
    "    sums = np.zeros((size_y, size_x), dtype=np.int32)\n",
    "\n",
    "    for y in range(1, hv_padded.shape[0]):\n",
    "        running_sum = 0\n",
    "\n",
    "        for x in range(1, hv_padded.shape[1]):\n",
    "            # subtract the diagonal element to prevent double-counting\n",
    "            running_sum += hv_padded[y, x] + hv_padded[y - 1, x] - hv_padded[y - 1, x - 1]\n",
    "            hv_padded[y, x] = running_sum\n",
    "\n",
    "            if y >= k and x >= k:\n",
    "                box_sum = hv_padded[y, x] - hv_padded[y, x - k] - hv_padded[y - k, x] + hv_padded[y - k, x - k]\n",
    "                sums[y - k, x - k] = box_sum\n",
    "\n",
    "    return hv_padded, sums"
   ],
   "id": "904a35de63fadba3",
   "outputs": [],
   "execution_count": 194
  },
  {
   "metadata": {
    "ExecuteTime": {
     "end_time": "2025-09-21T08:19:51.275007Z",
     "start_time": "2025-09-21T08:19:51.272986Z"
    }
   },
   "cell_type": "code",
   "source": "pad_array(img)",
   "id": "e8a3d27abd0e07c0",
   "outputs": [
    {
     "data": {
      "text/plain": [
       "array([[0., 0., 0., 0.],\n",
       "       [0., 1., 2., 3.],\n",
       "       [0., 4., 5., 6.],\n",
       "       [0., 7., 8., 9.]])"
      ]
     },
     "execution_count": 195,
     "metadata": {},
     "output_type": "execute_result"
    }
   ],
   "execution_count": 195
  },
  {
   "metadata": {
    "ExecuteTime": {
     "end_time": "2025-09-21T08:19:51.380178Z",
     "start_time": "2025-09-21T08:19:51.378658Z"
    }
   },
   "cell_type": "code",
   "source": [
    "k = 2\n",
    "\n",
    "ii, sum = box_sum(img, k)"
   ],
   "id": "a53c7f4e48385a0b",
   "outputs": [],
   "execution_count": 196
  },
  {
   "metadata": {
    "ExecuteTime": {
     "end_time": "2025-09-21T08:20:00.858682Z",
     "start_time": "2025-09-21T08:20:00.856419Z"
    }
   },
   "cell_type": "code",
   "source": "ii",
   "id": "b155833e14943ebd",
   "outputs": [
    {
     "data": {
      "text/plain": [
       "array([[ 0.,  0.,  0.,  0.],\n",
       "       [ 0.,  1.,  3.,  6.],\n",
       "       [ 0.,  5., 12., 21.],\n",
       "       [ 0., 12., 27., 45.]])"
      ]
     },
     "execution_count": 199,
     "metadata": {},
     "output_type": "execute_result"
    }
   ],
   "execution_count": 199
  },
  {
   "metadata": {
    "ExecuteTime": {
     "end_time": "2025-09-21T08:19:51.473488Z",
     "start_time": "2025-09-21T08:19:51.471370Z"
    }
   },
   "cell_type": "code",
   "source": "sum",
   "id": "f54b6a7e085b2117",
   "outputs": [
    {
     "data": {
      "text/plain": [
       "array([[12, 16],\n",
       "       [24, 28]], dtype=int32)"
      ]
     },
     "execution_count": 197,
     "metadata": {},
     "output_type": "execute_result"
    }
   ],
   "execution_count": 197
  },
  {
   "metadata": {
    "ExecuteTime": {
     "end_time": "2025-09-21T08:19:51.577706Z",
     "start_time": "2025-09-21T08:19:51.573338Z"
    }
   },
   "cell_type": "code",
   "source": [
    "from numpy.lib.stride_tricks import sliding_window_view\n",
    "\n",
    "\n",
    "def _ref_box_sum(img: np.ndarray, k: int) -> np.ndarray:\n",
    "    w = sliding_window_view(img, (k, k))\n",
    "\n",
    "    return w.astype(np.float64).sum(axis=(2, 3))\n",
    "\n",
    "def run_box_sum_tests(box_sum_fn):\n",
    "    rng = np.random.default_rng(42)\n",
    "    cases = [\n",
    "        (rng.integers(0, 10,  (3, 3),  dtype=np.int32),  [2]),\n",
    "        (rng.integers(0, 255, (5, 7),  dtype=np.uint8),  [2, 3]),\n",
    "        (rng.integers(-50, 50, (16, 10), dtype=np.int32), [3, 4]),\n",
    "        (rng.integers(0, 1000,(12, 12), dtype=np.int64), [6]),\n",
    "    ]\n",
    "\n",
    "    for idx, (img, ks) in enumerate(cases, 1):\n",
    "        for k in ks:\n",
    "            ref = _ref_box_sum(img, k)\n",
    "            _, out = box_sum_fn(img, k)\n",
    "            np.testing.assert_allclose(\n",
    "                np.asarray(out, dtype=np.float64),\n",
    "                np.asarray(ref, dtype=np.float64),\n",
    "                rtol=0, atol=0\n",
    "            )\n",
    "    print(\"All box_sum tests passed on 5 matrices and multiple window sizes.\")\n",
    "\n",
    "\n",
    "run_box_sum_tests(box_sum)"
   ],
   "id": "51314cc2bcba087b",
   "outputs": [
    {
     "name": "stdout",
     "output_type": "stream",
     "text": [
      "All box_sum tests passed on 5 matrices and multiple window sizes.\n"
     ]
    }
   ],
   "execution_count": 198
  },
  {
   "metadata": {
    "ExecuteTime": {
     "end_time": "2025-09-21T08:19:51.726308Z",
     "start_time": "2025-09-21T08:19:51.725110Z"
    }
   },
   "cell_type": "code",
   "source": "",
   "id": "7911da549c7a7f63",
   "outputs": [],
   "execution_count": null
  }
 ],
 "metadata": {
  "kernelspec": {
   "display_name": "Python 3",
   "language": "python",
   "name": "python3"
  },
  "language_info": {
   "codemirror_mode": {
    "name": "ipython",
    "version": 2
   },
   "file_extension": ".py",
   "mimetype": "text/x-python",
   "name": "python",
   "nbconvert_exporter": "python",
   "pygments_lexer": "ipython2",
   "version": "2.7.6"
  }
 },
 "nbformat": 4,
 "nbformat_minor": 5
}
