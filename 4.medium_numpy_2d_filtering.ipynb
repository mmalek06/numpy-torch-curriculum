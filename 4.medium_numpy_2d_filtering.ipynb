{
 "cells": [
  {
   "cell_type": "code",
   "id": "initial_id",
   "metadata": {
    "collapsed": true,
    "ExecuteTime": {
     "end_time": "2025-09-18T06:20:26.523426Z",
     "start_time": "2025-09-18T06:20:26.465049Z"
    }
   },
   "source": "import numpy as np",
   "outputs": [],
   "execution_count": 1
  },
  {
   "metadata": {
    "ExecuteTime": {
     "end_time": "2025-09-18T06:20:55.164066Z",
     "start_time": "2025-09-18T06:20:55.160872Z"
    }
   },
   "cell_type": "code",
   "source": [
    "arr = np.arange(36).reshape(6,6)\n",
    "arr"
   ],
   "id": "53ab98fdb0b41545",
   "outputs": [
    {
     "data": {
      "text/plain": [
       "array([[ 0,  1,  2,  3,  4,  5],\n",
       "       [ 6,  7,  8,  9, 10, 11],\n",
       "       [12, 13, 14, 15, 16, 17],\n",
       "       [18, 19, 20, 21, 22, 23],\n",
       "       [24, 25, 26, 27, 28, 29],\n",
       "       [30, 31, 32, 33, 34, 35]])"
      ]
     },
     "execution_count": 2,
     "metadata": {},
     "output_type": "execute_result"
    }
   ],
   "execution_count": 2
  },
  {
   "metadata": {
    "ExecuteTime": {
     "end_time": "2025-09-18T06:29:11.566471Z",
     "start_time": "2025-09-18T06:29:11.564101Z"
    }
   },
   "cell_type": "code",
   "source": [
    "from numpy.lib.stride_tricks import sliding_window_view\n",
    "\n",
    "\n",
    "windows = sliding_window_view(arr, (3,3))\n",
    "result = windows.mean(axis=(2, 3)) # windows.shape is (4, 4, 3, 3)\n",
    "result"
   ],
   "id": "9c0b0d23378e6c8",
   "outputs": [
    {
     "data": {
      "text/plain": [
       "array([[ 7.,  8.,  9., 10.],\n",
       "       [13., 14., 15., 16.],\n",
       "       [19., 20., 21., 22.],\n",
       "       [25., 26., 27., 28.]])"
      ]
     },
     "execution_count": 7,
     "metadata": {},
     "output_type": "execute_result"
    }
   ],
   "execution_count": 7
  },
  {
   "metadata": {},
   "cell_type": "code",
   "outputs": [],
   "execution_count": null,
   "source": "",
   "id": "95169e46a4fd7b16"
  }
 ],
 "metadata": {
  "kernelspec": {
   "display_name": "Python 3",
   "language": "python",
   "name": "python3"
  },
  "language_info": {
   "codemirror_mode": {
    "name": "ipython",
    "version": 2
   },
   "file_extension": ".py",
   "mimetype": "text/x-python",
   "name": "python",
   "nbconvert_exporter": "python",
   "pygments_lexer": "ipython2",
   "version": "2.7.6"
  }
 },
 "nbformat": 4,
 "nbformat_minor": 5
}
