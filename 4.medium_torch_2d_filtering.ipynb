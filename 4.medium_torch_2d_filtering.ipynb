{
 "cells": [
  {
   "cell_type": "code",
   "id": "initial_id",
   "metadata": {
    "collapsed": true,
    "ExecuteTime": {
     "end_time": "2025-09-18T16:06:21.363745Z",
     "start_time": "2025-09-18T16:06:19.654907Z"
    }
   },
   "source": "import torch",
   "outputs": [],
   "execution_count": 1
  },
  {
   "metadata": {
    "ExecuteTime": {
     "end_time": "2025-09-18T16:06:21.391342Z",
     "start_time": "2025-09-18T16:06:21.382420Z"
    }
   },
   "cell_type": "code",
   "source": [
    "arr = torch.arange(0, 36, dtype=torch.float32).reshape((6, 6))\n",
    "arr"
   ],
   "id": "887130e169c044f4",
   "outputs": [
    {
     "data": {
      "text/plain": [
       "tensor([[ 0.,  1.,  2.,  3.,  4.,  5.],\n",
       "        [ 6.,  7.,  8.,  9., 10., 11.],\n",
       "        [12., 13., 14., 15., 16., 17.],\n",
       "        [18., 19., 20., 21., 22., 23.],\n",
       "        [24., 25., 26., 27., 28., 29.],\n",
       "        [30., 31., 32., 33., 34., 35.]])"
      ]
     },
     "execution_count": 2,
     "metadata": {},
     "output_type": "execute_result"
    }
   ],
   "execution_count": 2
  },
  {
   "metadata": {},
   "cell_type": "markdown",
   "source": "The unfold op: go to column 0, get 2 right-neighbors taking one unit from each (which is just a cell for 2d case), slide 1 column to the right and repeat",
   "id": "33829c7f8336af4c"
  },
  {
   "metadata": {
    "ExecuteTime": {
     "end_time": "2025-09-18T16:06:31.453964Z",
     "start_time": "2025-09-18T16:06:31.449836Z"
    }
   },
   "cell_type": "code",
   "source": [
    "step1 = arr.unfold(1, 3, 1)\n",
    "step1"
   ],
   "id": "bfe02373f16565ca",
   "outputs": [
    {
     "data": {
      "text/plain": [
       "tensor([[[ 0.,  1.,  2.],\n",
       "         [ 1.,  2.,  3.],\n",
       "         [ 2.,  3.,  4.],\n",
       "         [ 3.,  4.,  5.]],\n",
       "\n",
       "        [[ 6.,  7.,  8.],\n",
       "         [ 7.,  8.,  9.],\n",
       "         [ 8.,  9., 10.],\n",
       "         [ 9., 10., 11.]],\n",
       "\n",
       "        [[12., 13., 14.],\n",
       "         [13., 14., 15.],\n",
       "         [14., 15., 16.],\n",
       "         [15., 16., 17.]],\n",
       "\n",
       "        [[18., 19., 20.],\n",
       "         [19., 20., 21.],\n",
       "         [20., 21., 22.],\n",
       "         [21., 22., 23.]],\n",
       "\n",
       "        [[24., 25., 26.],\n",
       "         [25., 26., 27.],\n",
       "         [26., 27., 28.],\n",
       "         [27., 28., 29.]],\n",
       "\n",
       "        [[30., 31., 32.],\n",
       "         [31., 32., 33.],\n",
       "         [32., 33., 34.],\n",
       "         [33., 34., 35.]]])"
      ]
     },
     "execution_count": 7,
     "metadata": {},
     "output_type": "execute_result"
    }
   ],
   "execution_count": 7
  },
  {
   "metadata": {},
   "cell_type": "markdown",
   "source": "The unfold op: go to position/container 0, get 2 deeper neighbors taking one unit from each (which is a row for this 3d case), slide 1 position/container deeper and repeat",
   "id": "4f6ba5219134efd0"
  },
  {
   "metadata": {
    "ExecuteTime": {
     "end_time": "2025-09-18T16:13:25.962054Z",
     "start_time": "2025-09-18T16:13:25.958471Z"
    }
   },
   "cell_type": "code",
   "source": [
    "step2 = step1.unfold(0, 3, 1).mT\n",
    "step2"
   ],
   "id": "cd27f0f38a3b5f77",
   "outputs": [
    {
     "data": {
      "text/plain": [
       "tensor([[[[ 0.,  1.,  2.],\n",
       "          [ 6.,  7.,  8.],\n",
       "          [12., 13., 14.]],\n",
       "\n",
       "         [[ 1.,  2.,  3.],\n",
       "          [ 7.,  8.,  9.],\n",
       "          [13., 14., 15.]],\n",
       "\n",
       "         [[ 2.,  3.,  4.],\n",
       "          [ 8.,  9., 10.],\n",
       "          [14., 15., 16.]],\n",
       "\n",
       "         [[ 3.,  4.,  5.],\n",
       "          [ 9., 10., 11.],\n",
       "          [15., 16., 17.]]],\n",
       "\n",
       "\n",
       "        [[[ 6.,  7.,  8.],\n",
       "          [12., 13., 14.],\n",
       "          [18., 19., 20.]],\n",
       "\n",
       "         [[ 7.,  8.,  9.],\n",
       "          [13., 14., 15.],\n",
       "          [19., 20., 21.]],\n",
       "\n",
       "         [[ 8.,  9., 10.],\n",
       "          [14., 15., 16.],\n",
       "          [20., 21., 22.]],\n",
       "\n",
       "         [[ 9., 10., 11.],\n",
       "          [15., 16., 17.],\n",
       "          [21., 22., 23.]]],\n",
       "\n",
       "\n",
       "        [[[12., 13., 14.],\n",
       "          [18., 19., 20.],\n",
       "          [24., 25., 26.]],\n",
       "\n",
       "         [[13., 14., 15.],\n",
       "          [19., 20., 21.],\n",
       "          [25., 26., 27.]],\n",
       "\n",
       "         [[14., 15., 16.],\n",
       "          [20., 21., 22.],\n",
       "          [26., 27., 28.]],\n",
       "\n",
       "         [[15., 16., 17.],\n",
       "          [21., 22., 23.],\n",
       "          [27., 28., 29.]]],\n",
       "\n",
       "\n",
       "        [[[18., 19., 20.],\n",
       "          [24., 25., 26.],\n",
       "          [30., 31., 32.]],\n",
       "\n",
       "         [[19., 20., 21.],\n",
       "          [25., 26., 27.],\n",
       "          [31., 32., 33.]],\n",
       "\n",
       "         [[20., 21., 22.],\n",
       "          [26., 27., 28.],\n",
       "          [32., 33., 34.]],\n",
       "\n",
       "         [[21., 22., 23.],\n",
       "          [27., 28., 29.],\n",
       "          [33., 34., 35.]]]])"
      ]
     },
     "execution_count": 12,
     "metadata": {},
     "output_type": "execute_result"
    }
   ],
   "execution_count": 12
  },
  {
   "metadata": {
    "ExecuteTime": {
     "end_time": "2025-09-18T16:06:21.985990Z",
     "start_time": "2025-09-18T16:06:21.982712Z"
    }
   },
   "cell_type": "code",
   "source": [
    "result = step2.mean(dim=(2, 3))\n",
    "result"
   ],
   "id": "afc7805d08ef666d",
   "outputs": [
    {
     "data": {
      "text/plain": [
       "tensor([[ 7.,  8.,  9., 10.],\n",
       "        [13., 14., 15., 16.],\n",
       "        [19., 20., 21., 22.],\n",
       "        [25., 26., 27., 28.]])"
      ]
     },
     "execution_count": 5,
     "metadata": {},
     "output_type": "execute_result"
    }
   ],
   "execution_count": 5
  },
  {
   "metadata": {
    "ExecuteTime": {
     "end_time": "2025-09-18T16:12:21.157326Z",
     "start_time": "2025-09-18T16:12:21.154546Z"
    }
   },
   "cell_type": "code",
   "source": "step1[0]",
   "id": "a57a8ea85ae42e1c",
   "outputs": [
    {
     "data": {
      "text/plain": [
       "tensor([[0., 1., 2.],\n",
       "        [1., 2., 3.],\n",
       "        [2., 3., 4.],\n",
       "        [3., 4., 5.]])"
      ]
     },
     "execution_count": 10,
     "metadata": {},
     "output_type": "execute_result"
    }
   ],
   "execution_count": 10
  },
  {
   "metadata": {},
   "cell_type": "code",
   "outputs": [],
   "execution_count": null,
   "source": "",
   "id": "d10f508c16b0c5de"
  }
 ],
 "metadata": {
  "kernelspec": {
   "display_name": "Python 3",
   "language": "python",
   "name": "python3"
  },
  "language_info": {
   "codemirror_mode": {
    "name": "ipython",
    "version": 2
   },
   "file_extension": ".py",
   "mimetype": "text/x-python",
   "name": "python",
   "nbconvert_exporter": "python",
   "pygments_lexer": "ipython2",
   "version": "2.7.6"
  }
 },
 "nbformat": 4,
 "nbformat_minor": 5
}
