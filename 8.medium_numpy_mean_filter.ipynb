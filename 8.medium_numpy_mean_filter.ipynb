{
 "cells": [
  {
   "cell_type": "code",
   "id": "initial_id",
   "metadata": {
    "collapsed": true,
    "ExecuteTime": {
     "end_time": "2025-10-01T19:17:54.900137Z",
     "start_time": "2025-10-01T19:17:54.898540Z"
    }
   },
   "source": [
    "import matplotlib.pyplot as plt\n",
    "import numpy as np"
   ],
   "outputs": [],
   "execution_count": 19
  },
  {
   "metadata": {
    "ExecuteTime": {
     "end_time": "2025-10-01T19:17:54.905903Z",
     "start_time": "2025-10-01T19:17:54.903709Z"
    }
   },
   "cell_type": "code",
   "source": [
    "img = np.array([\n",
    "    [0, 0, 0, 0, 0, 0, 0],\n",
    "    [0, 0, 0, 0, 0, 0, 0],\n",
    "    [0, 0, 9, 9, 9, 0, 0],\n",
    "    [0, 0, 9, 9, 9, 0, 0],\n",
    "    [0, 0, 9, 9, 9, 0, 0],\n",
    "    [0, 0, 0, 0, 0, 0, 0],\n",
    "    [0, 0, 0, 0, 0, 0, 0]\n",
    "], dtype=np.int64)"
   ],
   "id": "a25510741fef3dc2",
   "outputs": [],
   "execution_count": 20
  },
  {
   "metadata": {
    "ExecuteTime": {
     "end_time": "2025-10-01T19:17:55.013481Z",
     "start_time": "2025-10-01T19:17:54.954043Z"
    }
   },
   "cell_type": "code",
   "source": "plt.imshow(img, cmap=\"gray\")",
   "id": "144133aee8ead417",
   "outputs": [
    {
     "data": {
      "text/plain": [
       "<matplotlib.image.AxesImage at 0x748c26be1950>"
      ]
     },
     "execution_count": 21,
     "metadata": {},
     "output_type": "execute_result"
    },
    {
     "data": {
      "text/plain": [
       "<Figure size 640x480 with 1 Axes>"
      ],
      "image/png": "[encoded data removed]"
     },
     "metadata": {},
     "output_type": "display_data",
     "jetTransient": {
      "display_id": null
     }
    }
   ],
   "execution_count": 21
  },
  {
   "metadata": {
    "ExecuteTime": {
     "end_time": "2025-10-01T19:17:55.020261Z",
     "start_time": "2025-10-01T19:17:55.017448Z"
    }
   },
   "cell_type": "code",
   "source": [
    "k = 4\n",
    "\n",
    "\n",
    "def box_sum(img: np.ndarray, k: int) -> np.ndarray:\n",
    "    ii = img.cumsum(axis=0).cumsum(axis=1)\n",
    "    ii = np.pad(ii, ((1, 0), (1, 0)), mode=\"constant\")\n",
    "\n",
    "    return ii[k:, k:] - ii[:-k, k:] - ii[k:, :-k] + ii[:-k, :-k]\n",
    "\n",
    "\n",
    "def blur(img: np.ndarray, k: int) -> np.ndarray:\n",
    "    pad_amount_total = k - 1\n",
    "    q, r = divmod(pad_amount_total, 2)\n",
    "    pad_left_top = q + r\n",
    "    pad_right_bottom = q\n",
    "    img_pad = np.pad(img, ((pad_left_top, pad_right_bottom), (pad_left_top, pad_right_bottom)), mode=\"reflect\")\n",
    "    box_summed = box_sum(img_pad, k)\n",
    "    result = box_summed / (k**2)\n",
    "    result_u8 = np.clip(result, 0, 255).round().astype(np.uint8)\n",
    "\n",
    "    return result_u8"
   ],
   "id": "c018e43912a929b9",
   "outputs": [],
   "execution_count": 22
  },
  {
   "metadata": {
    "ExecuteTime": {
     "end_time": "2025-10-01T19:17:55.069759Z",
     "start_time": "2025-10-01T19:17:55.066685Z"
    }
   },
   "cell_type": "code",
   "source": "blur(img, k)",
   "id": "151a8e6551322250",
   "outputs": [
    {
     "data": {
      "text/plain": [
       "array([[1, 1, 1, 2, 2, 1, 1],\n",
       "       [1, 1, 1, 2, 2, 1, 1],\n",
       "       [1, 1, 2, 3, 3, 2, 1],\n",
       "       [2, 2, 3, 5, 5, 3, 2],\n",
       "       [2, 2, 3, 5, 5, 3, 2],\n",
       "       [1, 1, 2, 3, 3, 2, 1],\n",
       "       [1, 1, 1, 2, 2, 1, 1]], dtype=uint8)"
      ]
     },
     "execution_count": 23,
     "metadata": {},
     "output_type": "execute_result"
    }
   ],
   "execution_count": 23
  },
  {
   "metadata": {
    "ExecuteTime": {
     "end_time": "2025-10-01T19:17:55.253708Z",
     "start_time": "2025-10-01T19:17:55.184793Z"
    }
   },
   "cell_type": "code",
   "source": "plt.imshow(blur(img, k), cmap=\"gray\")",
   "id": "e2a494dfa61407ca",
   "outputs": [
    {
     "data": {
      "text/plain": [
       "<matplotlib.image.AxesImage at 0x748c26afc7d0>"
      ]
     },
     "execution_count": 24,
     "metadata": {},
     "output_type": "execute_result"
    },
    {
     "data": {
      "text/plain": [
       "<Figure size 640x480 with 1 Axes>"
      ],
      "image/png": "[encoded data removed]"
     },
     "metadata": {},
     "output_type": "display_data",
     "jetTransient": {
      "display_id": null
     }
    }
   ],
   "execution_count": 24
  },
  {
   "metadata": {},
   "cell_type": "code",
   "outputs": [],
   "execution_count": null,
   "source": "",
   "id": "2d6938eb88806abb"
  }
 ],
 "metadata": {
  "kernelspec": {
   "display_name": "Python 3",
   "language": "python",
   "name": "python3"
  },
  "language_info": {
   "codemirror_mode": {
    "name": "ipython",
    "version": 2
   },
   "file_extension": ".py",
   "mimetype": "text/x-python",
   "name": "python",
   "nbconvert_exporter": "python",
   "pygments_lexer": "ipython2",
   "version": "2.7.6"
  }
 },
 "nbformat": 4,
 "nbformat_minor": 5
}
