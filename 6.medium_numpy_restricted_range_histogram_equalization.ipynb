{
 "cells": [
  {
   "cell_type": "code",
   "id": "initial_id",
   "metadata": {
    "collapsed": true,
    "ExecuteTime": {
     "end_time": "2025-09-20T07:08:28.768695Z",
     "start_time": "2025-09-20T07:08:28.684003Z"
    }
   },
   "source": "import numpy as np",
   "outputs": [],
   "execution_count": 1
  },
  {
   "metadata": {},
   "cell_type": "markdown",
   "source": [
    "Original image: pixels may only occupy a narrow range, say [50–150]. The histogram is tall in that band, empty outside.\n",
    "After equalization: those intensities are “spread out” over the entire [0–255]. Dark pixels are pushed toward 0, bright ones toward 255.\n",
    "The idea is to maximize contrast by stretching the dynamic range of the image.\n",
    "\n",
    "[ 50,  52,  52<br />\n",
    "&nbsp;&nbsp;51,  52,  53<br />\n",
    "&nbsp;&nbsp;52,  53,  54 ]\n",
    "\n",
    "- Histogram: values cluster between 50–54.\n",
    "- Equalization: those 5 gray levels get remapped across 0–255, e.g.\n",
    "    50 -> 0\n",
    "    51 -> 64\n",
    "    52 -> 128\n",
    "    53 -> 192\n",
    "    54 -> 255\n",
    "\n",
    "So the new image spans the full contrast range, even though the original didn’t."
   ],
   "id": "e51dd7b747f805ec"
  },
  {
   "metadata": {
    "ExecuteTime": {
     "end_time": "2025-09-20T07:08:28.817372Z",
     "start_time": "2025-09-20T07:08:28.805452Z"
    }
   },
   "cell_type": "code",
   "source": [
    "img = np.array([\n",
    "    [50, 52, 52],\n",
    "    [51, 52, 53],\n",
    "    [52, 53, 54]\n",
    "], dtype=np.uint8)\n",
    "img"
   ],
   "id": "5df072c239daeaaa",
   "outputs": [
    {
     "data": {
      "text/plain": [
       "array([[50, 52, 52],\n",
       "       [51, 52, 53],\n",
       "       [52, 53, 54]], dtype=uint8)"
      ]
     },
     "execution_count": 2,
     "metadata": {},
     "output_type": "execute_result"
    }
   ],
   "execution_count": 2
  },
  {
   "metadata": {
    "ExecuteTime": {
     "end_time": "2025-09-20T07:08:29.434242Z",
     "start_time": "2025-09-20T07:08:29.431351Z"
    }
   },
   "cell_type": "code",
   "source": [
    "hist = np.bincount(img.flatten(), minlength=256)\n",
    "hist"
   ],
   "id": "f4d7a369901ebc1d",
   "outputs": [
    {
     "data": {
      "text/plain": [
       "array([0, 0, 0, 0, 0, 0, 0, 0, 0, 0, 0, 0, 0, 0, 0, 0, 0, 0, 0, 0, 0, 0,\n",
       "       0, 0, 0, 0, 0, 0, 0, 0, 0, 0, 0, 0, 0, 0, 0, 0, 0, 0, 0, 0, 0, 0,\n",
       "       0, 0, 0, 0, 0, 0, 1, 1, 4, 2, 1, 0, 0, 0, 0, 0, 0, 0, 0, 0, 0, 0,\n",
       "       0, 0, 0, 0, 0, 0, 0, 0, 0, 0, 0, 0, 0, 0, 0, 0, 0, 0, 0, 0, 0, 0,\n",
       "       0, 0, 0, 0, 0, 0, 0, 0, 0, 0, 0, 0, 0, 0, 0, 0, 0, 0, 0, 0, 0, 0,\n",
       "       0, 0, 0, 0, 0, 0, 0, 0, 0, 0, 0, 0, 0, 0, 0, 0, 0, 0, 0, 0, 0, 0,\n",
       "       0, 0, 0, 0, 0, 0, 0, 0, 0, 0, 0, 0, 0, 0, 0, 0, 0, 0, 0, 0, 0, 0,\n",
       "       0, 0, 0, 0, 0, 0, 0, 0, 0, 0, 0, 0, 0, 0, 0, 0, 0, 0, 0, 0, 0, 0,\n",
       "       0, 0, 0, 0, 0, 0, 0, 0, 0, 0, 0, 0, 0, 0, 0, 0, 0, 0, 0, 0, 0, 0,\n",
       "       0, 0, 0, 0, 0, 0, 0, 0, 0, 0, 0, 0, 0, 0, 0, 0, 0, 0, 0, 0, 0, 0,\n",
       "       0, 0, 0, 0, 0, 0, 0, 0, 0, 0, 0, 0, 0, 0, 0, 0, 0, 0, 0, 0, 0, 0,\n",
       "       0, 0, 0, 0, 0, 0, 0, 0, 0, 0, 0, 0, 0, 0])"
      ]
     },
     "execution_count": 3,
     "metadata": {},
     "output_type": "execute_result"
    }
   ],
   "execution_count": 3
  },
  {
   "metadata": {
    "ExecuteTime": {
     "end_time": "2025-09-20T07:08:45.212945Z",
     "start_time": "2025-09-20T07:08:45.209660Z"
    }
   },
   "cell_type": "code",
   "source": [
    "cdf = np.cumsum(hist)\n",
    "cdf"
   ],
   "id": "4c7e8547d1d439c9",
   "outputs": [
    {
     "data": {
      "text/plain": [
       "array([0, 0, 0, 0, 0, 0, 0, 0, 0, 0, 0, 0, 0, 0, 0, 0, 0, 0, 0, 0, 0, 0,\n",
       "       0, 0, 0, 0, 0, 0, 0, 0, 0, 0, 0, 0, 0, 0, 0, 0, 0, 0, 0, 0, 0, 0,\n",
       "       0, 0, 0, 0, 0, 0, 1, 2, 6, 8, 9, 9, 9, 9, 9, 9, 9, 9, 9, 9, 9, 9,\n",
       "       9, 9, 9, 9, 9, 9, 9, 9, 9, 9, 9, 9, 9, 9, 9, 9, 9, 9, 9, 9, 9, 9,\n",
       "       9, 9, 9, 9, 9, 9, 9, 9, 9, 9, 9, 9, 9, 9, 9, 9, 9, 9, 9, 9, 9, 9,\n",
       "       9, 9, 9, 9, 9, 9, 9, 9, 9, 9, 9, 9, 9, 9, 9, 9, 9, 9, 9, 9, 9, 9,\n",
       "       9, 9, 9, 9, 9, 9, 9, 9, 9, 9, 9, 9, 9, 9, 9, 9, 9, 9, 9, 9, 9, 9,\n",
       "       9, 9, 9, 9, 9, 9, 9, 9, 9, 9, 9, 9, 9, 9, 9, 9, 9, 9, 9, 9, 9, 9,\n",
       "       9, 9, 9, 9, 9, 9, 9, 9, 9, 9, 9, 9, 9, 9, 9, 9, 9, 9, 9, 9, 9, 9,\n",
       "       9, 9, 9, 9, 9, 9, 9, 9, 9, 9, 9, 9, 9, 9, 9, 9, 9, 9, 9, 9, 9, 9,\n",
       "       9, 9, 9, 9, 9, 9, 9, 9, 9, 9, 9, 9, 9, 9, 9, 9, 9, 9, 9, 9, 9, 9,\n",
       "       9, 9, 9, 9, 9, 9, 9, 9, 9, 9, 9, 9, 9, 9])"
      ]
     },
     "execution_count": 4,
     "metadata": {},
     "output_type": "execute_result"
    }
   ],
   "execution_count": 4
  },
  {
   "metadata": {
    "ExecuteTime": {
     "end_time": "2025-09-20T07:11:41.613035Z",
     "start_time": "2025-09-20T07:11:41.610372Z"
    }
   },
   "cell_type": "code",
   "source": [
    "high = 200\n",
    "low = 50\n",
    "cdf_norm = cdf / cdf.max()\n",
    "lookup_table = (cdf_norm * (high - low) + low).astype(np.uint8)\n",
    "img_eq = lookup_table[img]\n",
    "img_eq"
   ],
   "id": "a0a0aaca2bfeee0",
   "outputs": [
    {
     "data": {
      "text/plain": [
       "array([[ 66, 150, 150],\n",
       "       [ 83, 150, 183],\n",
       "       [150, 183, 200]], dtype=uint8)"
      ]
     },
     "execution_count": 7,
     "metadata": {},
     "output_type": "execute_result"
    }
   ],
   "execution_count": 7
  },
  {
   "metadata": {
    "ExecuteTime": {
     "end_time": "2025-09-20T07:19:15.141064Z",
     "start_time": "2025-09-20T07:19:15.137733Z"
    }
   },
   "cell_type": "code",
   "source": [
    "high = 200\n",
    "low = 50\n",
    "cdf_min = cdf[cdf > 0][0]\n",
    "cdf_norm = (cdf - cdf_min) / (cdf.max() - cdf_min)\n",
    "lookup_table = (cdf_norm * (high - low) + low).astype(np.uint8)\n",
    "img_eq = lookup_table[img]\n",
    "img_eq"
   ],
   "id": "6dacc8754e6de078",
   "outputs": [
    {
     "data": {
      "text/plain": [
       "array([[ 50, 143, 143],\n",
       "       [ 68, 143, 181],\n",
       "       [143, 181, 200]], dtype=uint8)"
      ]
     },
     "execution_count": 8,
     "metadata": {},
     "output_type": "execute_result"
    }
   ],
   "execution_count": 8
  },
  {
   "metadata": {},
   "cell_type": "code",
   "outputs": [],
   "execution_count": null,
   "source": "",
   "id": "b9c9a93a1ba93f9"
  }
 ],
 "metadata": {
  "kernelspec": {
   "display_name": "Python 3",
   "language": "python",
   "name": "python3"
  },
  "language_info": {
   "codemirror_mode": {
    "name": "ipython",
    "version": 2
   },
   "file_extension": ".py",
   "mimetype": "text/x-python",
   "name": "python",
   "nbconvert_exporter": "python",
   "pygments_lexer": "ipython2",
   "version": "2.7.6"
  }
 },
 "nbformat": 4,
 "nbformat_minor": 5
}
