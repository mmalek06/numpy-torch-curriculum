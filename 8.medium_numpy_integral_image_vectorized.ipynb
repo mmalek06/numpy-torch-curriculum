{
 "cells": [
  {
   "cell_type": "code",
   "id": "initial_id",
   "metadata": {
    "collapsed": true,
    "ExecuteTime": {
     "end_time": "2025-09-21T08:38:17.886475Z",
     "start_time": "2025-09-21T08:38:17.884662Z"
    }
   },
   "source": "import numpy as np",
   "outputs": [],
   "execution_count": 20
  },
  {
   "metadata": {
    "ExecuteTime": {
     "end_time": "2025-09-21T08:38:17.932434Z",
     "start_time": "2025-09-21T08:38:17.929737Z"
    }
   },
   "cell_type": "code",
   "source": [
    "img = np.arange(9).reshape((3, 3)) + 1\n",
    "img"
   ],
   "id": "f2c06c3f5f174d49",
   "outputs": [
    {
     "data": {
      "text/plain": [
       "array([[1, 2, 3],\n",
       "       [4, 5, 6],\n",
       "       [7, 8, 9]])"
      ]
     },
     "execution_count": 21,
     "metadata": {},
     "output_type": "execute_result"
    }
   ],
   "execution_count": 21
  },
  {
   "metadata": {
    "ExecuteTime": {
     "end_time": "2025-09-21T08:59:04.925976Z",
     "start_time": "2025-09-21T08:59:04.923781Z"
    }
   },
   "cell_type": "code",
   "source": [
    "def box_sum(img: np.ndarray, k: int) -> np.ndarray:\n",
    "    h, w = img.shape\n",
    "    size_y = h - k + 1\n",
    "    size_x = w - k + 1\n",
    "    cum_cols = np.cumsum(img, axis=0)\n",
    "    ii = np.cumsum(cum_cols, axis=1)\n",
    "\n",
    "    print(cum_cols)\n",
    "\n",
    "    return ii"
   ],
   "id": "7911da549c7a7f63",
   "outputs": [],
   "execution_count": 26
  },
  {
   "metadata": {
    "ExecuteTime": {
     "end_time": "2025-09-21T08:59:05.066959Z",
     "start_time": "2025-09-21T08:59:05.064107Z"
    }
   },
   "cell_type": "code",
   "source": "box_sum(img, 2)",
   "id": "6a3de8f1bb151803",
   "outputs": [
    {
     "name": "stdout",
     "output_type": "stream",
     "text": [
      "[[ 1  2  3]\n",
      " [ 5  7  9]\n",
      " [12 15 18]]\n"
     ]
    },
    {
     "data": {
      "text/plain": [
       "array([[ 1,  3,  6],\n",
       "       [ 5, 12, 21],\n",
       "       [12, 27, 45]])"
      ]
     },
     "execution_count": 27,
     "metadata": {},
     "output_type": "execute_result"
    }
   ],
   "execution_count": 27
  },
  {
   "metadata": {
    "ExecuteTime": {
     "end_time": "2025-09-21T08:38:18.246826Z",
     "start_time": "2025-09-21T08:38:18.245631Z"
    }
   },
   "cell_type": "code",
   "source": "",
   "id": "35ac8ade3dfb29d4",
   "outputs": [],
   "execution_count": null
  }
 ],
 "metadata": {
  "kernelspec": {
   "display_name": "Python 3",
   "language": "python",
   "name": "python3"
  },
  "language_info": {
   "codemirror_mode": {
    "name": "ipython",
    "version": 2
   },
   "file_extension": ".py",
   "mimetype": "text/x-python",
   "name": "python",
   "nbconvert_exporter": "python",
   "pygments_lexer": "ipython2",
   "version": "2.7.6"
  }
 },
 "nbformat": 4,
 "nbformat_minor": 5
}
