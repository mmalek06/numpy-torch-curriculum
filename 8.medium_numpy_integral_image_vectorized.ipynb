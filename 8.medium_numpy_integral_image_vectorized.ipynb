{
 "cells": [
  {
   "cell_type": "code",
   "id": "initial_id",
   "metadata": {
    "collapsed": true,
    "ExecuteTime": {
     "end_time": "2025-09-21T19:27:22.766447Z",
     "start_time": "2025-09-21T19:27:22.764637Z"
    }
   },
   "source": "import numpy as np",
   "outputs": [],
   "execution_count": 2
  },
  {
   "metadata": {
    "ExecuteTime": {
     "end_time": "2025-09-21T19:27:22.773712Z",
     "start_time": "2025-09-21T19:27:22.768785Z"
    }
   },
   "cell_type": "code",
   "source": [
    "img = np.arange(9).reshape((3, 3)) + 1\n",
    "img"
   ],
   "id": "f2c06c3f5f174d49",
   "outputs": [
    {
     "data": {
      "text/plain": [
       "array([[1, 2, 3],\n",
       "       [4, 5, 6],\n",
       "       [7, 8, 9]])"
      ]
     },
     "execution_count": 3,
     "metadata": {},
     "output_type": "execute_result"
    }
   ],
   "execution_count": 3
  },
  {
   "metadata": {
    "ExecuteTime": {
     "end_time": "2025-09-21T19:52:15.414927Z",
     "start_time": "2025-09-21T19:52:15.411682Z"
    }
   },
   "cell_type": "code",
   "source": [
    "def pad_array(array: np.ndarray) -> np.ndarray:\n",
    "    h_padded = np.vstack((\n",
    "        np.zeros((array.shape[1],)),\n",
    "        array\n",
    "    ))\n",
    "    hv_padded = np.hstack((\n",
    "        np.zeros((h_padded.shape[0], 1)),\n",
    "        h_padded\n",
    "    ))\n",
    "\n",
    "    return hv_padded\n",
    "\n",
    "\n",
    "def box_sum(img: np.ndarray, k: int) -> np.ndarray:\n",
    "    h, w = img.shape\n",
    "    size_y = h - k + 1\n",
    "    size_x = w - k + 1\n",
    "    cum_cols = np.cumsum(img, axis=0)\n",
    "    ii = np.cumsum(cum_cols, axis=1)\n",
    "    ii = pad_array(ii)\n",
    "\n",
    "    return ii"
   ],
   "id": "7911da549c7a7f63",
   "outputs": [],
   "execution_count": 55
  },
  {
   "metadata": {
    "ExecuteTime": {
     "end_time": "2025-09-21T20:09:57.312696Z",
     "start_time": "2025-09-21T20:09:57.309987Z"
    }
   },
   "cell_type": "code",
   "source": [
    "k = 2\n",
    "sum = box_sum(img, k)\n",
    "sum"
   ],
   "id": "6a3de8f1bb151803",
   "outputs": [
    {
     "data": {
      "text/plain": [
       "array([[ 0.,  0.,  0.,  0.],\n",
       "       [ 0.,  1.,  3.,  6.],\n",
       "       [ 0.,  5., 12., 21.],\n",
       "       [ 0., 12., 27., 45.]])"
      ]
     },
     "execution_count": 100,
     "metadata": {},
     "output_type": "execute_result"
    }
   ],
   "execution_count": 100
  },
  {
   "metadata": {
    "ExecuteTime": {
     "end_time": "2025-09-21T20:09:57.575311Z",
     "start_time": "2025-09-21T20:09:57.572457Z"
    }
   },
   "cell_type": "code",
   "source": [
    "strides = np.lib.stride_tricks.as_strided(\n",
    "    sum,\n",
    "    shape=(sum.shape[0] - k + 1, sum.shape[1] - k + 1, k, k),\n",
    "    strides=sum.strides + sum.strides\n",
    ").astype(np.int64)\n",
    "strides"
   ],
   "id": "35ac8ade3dfb29d4",
   "outputs": [
    {
     "data": {
      "text/plain": [
       "array([[[[ 0,  0],\n",
       "         [ 0,  1]],\n",
       "\n",
       "        [[ 0,  0],\n",
       "         [ 1,  3]],\n",
       "\n",
       "        [[ 0,  0],\n",
       "         [ 3,  6]]],\n",
       "\n",
       "\n",
       "       [[[ 0,  1],\n",
       "         [ 0,  5]],\n",
       "\n",
       "        [[ 1,  3],\n",
       "         [ 5, 12]],\n",
       "\n",
       "        [[ 3,  6],\n",
       "         [12, 21]]],\n",
       "\n",
       "\n",
       "       [[[ 0,  5],\n",
       "         [ 0, 12]],\n",
       "\n",
       "        [[ 5, 12],\n",
       "         [12, 27]],\n",
       "\n",
       "        [[12, 21],\n",
       "         [27, 45]]]])"
      ]
     },
     "execution_count": 101,
     "metadata": {},
     "output_type": "execute_result"
    }
   ],
   "execution_count": 101
  },
  {
   "metadata": {
    "ExecuteTime": {
     "end_time": "2025-09-21T20:09:58.854044Z",
     "start_time": "2025-09-21T20:09:58.850338Z"
    }
   },
   "cell_type": "code",
   "source": [
    "elements_for_summing = strides[:, :, [0, k - 1]][:, :, :, [0, k - 1]]\n",
    "elements_for_summing[:, :, 0, 1] = -elements_for_summing[:, :, 0, 1]\n",
    "elements_for_summing[:, :, 1, 0] = -elements_for_summing[:, :, 1, 0]\n",
    "elements_for_summing"
   ],
   "id": "2fbd3cc8dc01e664",
   "outputs": [
    {
     "data": {
      "text/plain": [
       "array([[[[  0,   0],\n",
       "         [  0,   1]],\n",
       "\n",
       "        [[  0,   0],\n",
       "         [ -1,   3]],\n",
       "\n",
       "        [[  0,   0],\n",
       "         [ -3,   6]]],\n",
       "\n",
       "\n",
       "       [[[  0,  -1],\n",
       "         [  0,   5]],\n",
       "\n",
       "        [[  1,  -3],\n",
       "         [ -5,  12]],\n",
       "\n",
       "        [[  3,  -6],\n",
       "         [-12,  21]]],\n",
       "\n",
       "\n",
       "       [[[  0,  -5],\n",
       "         [  0,  12]],\n",
       "\n",
       "        [[  5, -12],\n",
       "         [-12,  27]],\n",
       "\n",
       "        [[ 12, -21],\n",
       "         [-27,  45]]]])"
      ]
     },
     "execution_count": 102,
     "metadata": {},
     "output_type": "execute_result"
    }
   ],
   "execution_count": 102
  },
  {
   "metadata": {
    "ExecuteTime": {
     "end_time": "2025-09-21T19:50:06.508198Z",
     "start_time": "2025-09-21T19:50:06.505526Z"
    }
   },
   "cell_type": "code",
   "source": [
    "[[12, 16],\n",
    " [24, 28]]"
   ],
   "id": "645258a1622691f8",
   "outputs": [
    {
     "data": {
      "text/plain": [
       "[[12, 16], [24, 28]]"
      ]
     },
     "execution_count": 54,
     "metadata": {},
     "output_type": "execute_result"
    }
   ],
   "execution_count": 54
  },
  {
   "metadata": {},
   "cell_type": "code",
   "outputs": [],
   "execution_count": null,
   "source": "",
   "id": "ce64850b5a75d0dc"
  }
 ],
 "metadata": {
  "kernelspec": {
   "display_name": "Python 3",
   "language": "python",
   "name": "python3"
  },
  "language_info": {
   "codemirror_mode": {
    "name": "ipython",
    "version": 2
   },
   "file_extension": ".py",
   "mimetype": "text/x-python",
   "name": "python",
   "nbconvert_exporter": "python",
   "pygments_lexer": "ipython2",
   "version": "2.7.6"
  }
 },
 "nbformat": 4,
 "nbformat_minor": 5
}
