{
 "cells": [
  {
   "cell_type": "code",
   "id": "initial_id",
   "metadata": {
    "collapsed": true,
    "ExecuteTime": {
     "end_time": "2025-09-27T08:59:17.154358Z",
     "start_time": "2025-09-27T08:59:17.152393Z"
    }
   },
   "source": "import numpy as np",
   "outputs": [],
   "execution_count": 17
  },
  {
   "metadata": {
    "ExecuteTime": {
     "end_time": "2025-09-27T08:59:17.162652Z",
     "start_time": "2025-09-27T08:59:17.160520Z"
    }
   },
   "cell_type": "code",
   "source": [
    "img = np.arange(16).reshape((4, 4)) + 1\n",
    "img"
   ],
   "id": "f2c06c3f5f174d49",
   "outputs": [
    {
     "data": {
      "text/plain": [
       "array([[ 1,  2,  3,  4],\n",
       "       [ 5,  6,  7,  8],\n",
       "       [ 9, 10, 11, 12],\n",
       "       [13, 14, 15, 16]])"
      ]
     },
     "execution_count": 18,
     "metadata": {},
     "output_type": "execute_result"
    }
   ],
   "execution_count": 18
  },
  {
   "metadata": {
    "ExecuteTime": {
     "end_time": "2025-09-27T08:59:17.289094Z",
     "start_time": "2025-09-27T08:59:17.286260Z"
    }
   },
   "cell_type": "code",
   "source": [
    "def box_sum_bad(img: np.ndarray, k: int) -> np.ndarray:\n",
    "    cum_cols = np.cumsum(img, axis=0)\n",
    "    ii = np.cumsum(cum_cols, axis=1)\n",
    "    ii = np.pad(ii, ((1, 0), (1, 0)), mode=\"constant\")\n",
    "    strides = np.lib.stride_tricks.as_strided(\n",
    "        ii,\n",
    "        shape=(ii.shape[0] - k, ii.shape[1] - k, k + 1, k + 1),\n",
    "        strides=ii.strides + ii.strides\n",
    "    ).astype(np.int64)\n",
    "    elements_for_summing = strides[:, :, [0, k]][:, :, :, [0, k]]\n",
    "    elements_for_summing[:, :, 0, 1] = -elements_for_summing[:, :, 0, 1]\n",
    "    elements_for_summing[:, :, 1, 0] = -elements_for_summing[:, :, 1, 0]\n",
    "    result = np.sum(elements_for_summing, axis=(-2, -1))\n",
    "\n",
    "    return result\n",
    "\n",
    "\n",
    "def box_sum(img: np.ndarray, k: int) -> np.ndarray:\n",
    "    ii = img.astype(np.int64).cumsum(axis=0).cumsum(axis=1)\n",
    "    ii = np.pad(ii, ((1, 0), (1, 0)), mode=\"constant\")\n",
    "\n",
    "    return ii[k:, k:] - ii[:-k, k:] - ii[k:, :-k] + ii[:-k, :-k]"
   ],
   "id": "7911da549c7a7f63",
   "outputs": [],
   "execution_count": 19
  },
  {
   "metadata": {
    "ExecuteTime": {
     "end_time": "2025-09-27T08:59:17.399399Z",
     "start_time": "2025-09-27T08:59:17.396677Z"
    }
   },
   "cell_type": "code",
   "source": [
    "k = 3\n",
    "sum = box_sum(img, k)\n",
    "sum"
   ],
   "id": "6a3de8f1bb151803",
   "outputs": [
    {
     "data": {
      "text/plain": [
       "array([[54, 63],\n",
       "       [90, 99]])"
      ]
     },
     "execution_count": 20,
     "metadata": {},
     "output_type": "execute_result"
    }
   ],
   "execution_count": 20
  },
  {
   "metadata": {
    "ExecuteTime": {
     "end_time": "2025-09-27T08:59:17.512839Z",
     "start_time": "2025-09-27T08:59:17.510106Z"
    }
   },
   "cell_type": "code",
   "source": [
    "def box_mean_valid(img: np.ndarray, k: int) -> np.ndarray:\n",
    "    sums = box_sum(img, k)\n",
    "    means = sums / (k ** 2)\n",
    "\n",
    "    return means\n"
   ],
   "id": "ce64850b5a75d0dc",
   "outputs": [],
   "execution_count": 21
  },
  {
   "metadata": {
    "ExecuteTime": {
     "end_time": "2025-09-27T08:59:17.623043Z",
     "start_time": "2025-09-27T08:59:17.616054Z"
    }
   },
   "cell_type": "code",
   "source": "box_mean_valid(img, k)",
   "id": "d6426b42727661e",
   "outputs": [
    {
     "data": {
      "text/plain": [
       "array([[ 6.,  7.],\n",
       "       [10., 11.]])"
      ]
     },
     "execution_count": 22,
     "metadata": {},
     "output_type": "execute_result"
    }
   ],
   "execution_count": 22
  },
  {
   "metadata": {
    "ExecuteTime": {
     "end_time": "2025-09-27T08:59:17.721147Z",
     "start_time": "2025-09-27T08:59:17.717989Z"
    }
   },
   "cell_type": "code",
   "source": [
    "def box_mean_same(img: np.ndarray, k: int) -> np.ndarray:\n",
    "    if k < 1 or k % 2 == 0:\n",
    "        raise ValueError(\"k must be a positive odd integer\")\n",
    "\n",
    "    p = k // 2\n",
    "    img_p = np.pad(img, ((p, p), (p, p)), mode=\"constant\", constant_values=0)\n",
    "    sums = box_sum(img_p, k)\n",
    "\n",
    "    return np.round(sums / (k * k), 2)"
   ],
   "id": "13b9a1f2ebb474f8",
   "outputs": [],
   "execution_count": 23
  },
  {
   "metadata": {
    "ExecuteTime": {
     "end_time": "2025-09-27T08:59:17.832280Z",
     "start_time": "2025-09-27T08:59:17.829042Z"
    }
   },
   "cell_type": "code",
   "source": "box_mean_same(img, k)",
   "id": "aa158eda3df03be7",
   "outputs": [
    {
     "data": {
      "text/plain": [
       "array([[ 1.56,  2.67,  3.33,  2.44],\n",
       "       [ 3.67,  6.  ,  7.  ,  5.  ],\n",
       "       [ 6.33, 10.  , 11.  ,  7.67],\n",
       "       [ 5.11,  8.  ,  8.67,  6.  ]])"
      ]
     },
     "execution_count": 24,
     "metadata": {},
     "output_type": "execute_result"
    }
   ],
   "execution_count": 24
  },
  {
   "metadata": {
    "ExecuteTime": {
     "end_time": "2025-09-27T08:59:17.940963Z",
     "start_time": "2025-09-27T08:59:17.939218Z"
    }
   },
   "cell_type": "code",
   "source": "",
   "id": "74f075a2db4b8f80",
   "outputs": [],
   "execution_count": null
  }
 ],
 "metadata": {
  "kernelspec": {
   "display_name": "Python 3",
   "language": "python",
   "name": "python3"
  },
  "language_info": {
   "codemirror_mode": {
    "name": "ipython",
    "version": 2
   },
   "file_extension": ".py",
   "mimetype": "text/x-python",
   "name": "python",
   "nbconvert_exporter": "python",
   "pygments_lexer": "ipython2",
   "version": "2.7.6"
  }
 },
 "nbformat": 4,
 "nbformat_minor": 5
}
