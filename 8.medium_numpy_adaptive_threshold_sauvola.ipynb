{
 "cells": [
  {
   "cell_type": "code",
   "id": "initial_id",
   "metadata": {
    "collapsed": true,
    "ExecuteTime": {
     "end_time": "2025-10-02T06:18:50.074086Z",
     "start_time": "2025-10-02T06:18:50.072064Z"
    }
   },
   "source": [
    "import matplotlib.pyplot as plt\n",
    "import numpy as np"
   ],
   "outputs": [],
   "execution_count": 10
  },
  {
   "metadata": {
    "ExecuteTime": {
     "end_time": "2025-10-02T06:18:50.119393Z",
     "start_time": "2025-10-02T06:18:50.116952Z"
    }
   },
   "cell_type": "code",
   "source": [
    "img = np.array([\n",
    "    [0, 2, 4, 6, 8, 10, 12],\n",
    "    [0, 2, 4, 6, 8, 10, 12],\n",
    "    [0, 2, 4, 6, 8, 10, 12],\n",
    "    [0, 2, 4, 6, 20, 10, 12],\n",
    "    [0, 2, 4, 6, 8, 10, 12],\n",
    "    [0, 2, 4, 6, 8, 10, 12],\n",
    "    [0, 2, 4, 6, 8, 10, 12]\n",
    "], dtype=np.int64)"
   ],
   "id": "4c191a7ecc0ece46",
   "outputs": [],
   "execution_count": 11
  },
  {
   "metadata": {
    "ExecuteTime": {
     "end_time": "2025-10-02T06:18:50.168728Z",
     "start_time": "2025-10-02T06:18:50.163800Z"
    }
   },
   "cell_type": "code",
   "source": [
    "def box_sum(img: np.ndarray, k: int) -> np.ndarray:\n",
    "    ii = img.cumsum(axis=0).cumsum(axis=1)\n",
    "    ii = np.pad(ii, ((1, 0), (1, 0)), mode=\"constant\")\n",
    "\n",
    "    return ii[k:, k:] - ii[:-k, k:] - ii[k:, :-k] + ii[:-k, :-k]\n",
    "\n",
    "\n",
    "def pad(img: np.ndarray, k: int) -> np.ndarray:\n",
    "    pad_amount_total = k - 1\n",
    "    q, r = divmod(pad_amount_total, 2)\n",
    "    pad_left_top = q + r\n",
    "    pad_right_bottom = q\n",
    "    img_pad = np.pad(img, ((pad_left_top, pad_right_bottom), (pad_left_top, pad_right_bottom)), mode=\"reflect\")\n",
    "\n",
    "    return img_pad\n",
    "\n",
    "\n",
    "def box_mu_same_reflect(img: np.ndarray, k: int) -> np.ndarray:\n",
    "    img_pad = pad(img, k)\n",
    "    sums = box_sum(img_pad, k)\n",
    "\n",
    "    return sums / (k * k)\n",
    "\n",
    "\n",
    "def box_sigma_same_reflect(img: np.ndarray, k: int, mu: np.ndarray) -> np.ndarray:\n",
    "    img_pad = pad(img, k)\n",
    "    sums = box_sum(img_pad ** 2, k)\n",
    "    e2 = sums / (k * k)\n",
    "    var = e2 - mu * mu\n",
    "    var = np.maximum(var, 0.0)\n",
    "    sigma = np.sqrt(var)\n",
    "\n",
    "    return sigma\n",
    "\n",
    "\n",
    "def sauvola(img: np.ndarray, k: int) -> np.ndarray:\n",
    "    mu = box_mu_same_reflect(img, k)\n",
    "    sigma = box_sigma_same_reflect(img, k, mu)\n",
    "    kappa = .5\n",
    "    R = 128\n",
    "    t = mu * (1 + kappa * ((sigma / R) - 1))\n",
    "\n",
    "    ..."
   ],
   "id": "f8c357fb5782b6b1",
   "outputs": [
    {
     "data": {
      "text/plain": [
       "array([[ 2.4 ,  2.8 ,  4.  ,  6.  ,  8.  ,  9.2 ,  9.6 ],\n",
       "       [ 2.4 ,  2.8 ,  4.48,  6.48,  8.48,  9.68, 10.56],\n",
       "       [ 2.4 ,  2.8 ,  4.48,  6.48,  8.48,  9.68, 10.56],\n",
       "       [ 2.4 ,  2.8 ,  4.48,  6.48,  8.48,  9.68, 10.56],\n",
       "       [ 2.4 ,  2.8 ,  4.48,  6.48,  8.48,  9.68, 10.56],\n",
       "       [ 2.4 ,  2.8 ,  4.48,  6.48,  8.48,  9.68, 10.56],\n",
       "       [ 2.4 ,  2.8 ,  4.  ,  6.  ,  8.  ,  9.2 ,  9.6 ]])"
      ]
     },
     "execution_count": 12,
     "metadata": {},
     "output_type": "execute_result"
    }
   ],
   "execution_count": 12
  },
  {
   "metadata": {
    "ExecuteTime": {
     "end_time": "2025-10-02T06:18:50.266092Z",
     "start_time": "2025-10-02T06:18:50.265045Z"
    }
   },
   "cell_type": "code",
   "source": "",
   "id": "634f91cae5955f41",
   "outputs": [],
   "execution_count": null
  }
 ],
 "metadata": {
  "kernelspec": {
   "display_name": "Python 3",
   "language": "python",
   "name": "python3"
  },
  "language_info": {
   "codemirror_mode": {
    "name": "ipython",
    "version": 2
   },
   "file_extension": ".py",
   "mimetype": "text/x-python",
   "name": "python",
   "nbconvert_exporter": "python",
   "pygments_lexer": "ipython2",
   "version": "2.7.6"
  }
 },
 "nbformat": 4,
 "nbformat_minor": 5
}
