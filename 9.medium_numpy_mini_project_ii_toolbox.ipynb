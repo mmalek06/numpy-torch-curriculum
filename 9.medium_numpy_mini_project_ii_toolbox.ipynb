{
 "cells": [
  {
   "cell_type": "code",
   "id": "initial_id",
   "metadata": {
    "collapsed": true,
    "ExecuteTime": {
     "end_time": "2025-09-27T08:55:02.874922Z",
     "start_time": "2025-09-27T08:55:02.873390Z"
    }
   },
   "source": [
    "from typing import Literal\n",
    "\n",
    "import numpy as np"
   ],
   "outputs": [],
   "execution_count": 70
  },
  {
   "metadata": {
    "ExecuteTime": {
     "end_time": "2025-09-27T08:55:02.924594Z",
     "start_time": "2025-09-27T08:55:02.920795Z"
    }
   },
   "cell_type": "code",
   "source": [
    "def integral_image(img: np.ndarray) -> np.ndarray:\n",
    "    ii = img.astype(np.int64).cumsum(axis=0).cumsum(axis=1)\n",
    "    ii = np.pad(ii, ((1, 0), (1, 0)), mode=\"constant\")\n",
    "\n",
    "    return ii"
   ],
   "id": "1a94cfe6548ab74d",
   "outputs": [],
   "execution_count": 71
  },
  {
   "metadata": {
    "ExecuteTime": {
     "end_time": "2025-09-27T08:55:02.971073Z",
     "start_time": "2025-09-27T08:55:02.967906Z"
    }
   },
   "cell_type": "code",
   "source": [
    "def pad_image(\n",
    "        img: np.ndarray,\n",
    "        k: int,\n",
    "        mode: Literal[\"valid\",\"same\"] = \"valid\",\n",
    "        border: Literal[\"constant\",\"edge\",\"reflect\"] = \"constant\"\n",
    ") -> np.ndarray:\n",
    "    if mode != \"same\":\n",
    "        return img\n",
    "\n",
    "    p_top = k // 2\n",
    "    p_left = k // 2\n",
    "    p_bottom = k - 1 - p_top\n",
    "    p_right = k - 1 - p_left\n",
    "    pad_spec = ((p_top, p_bottom), (p_left, p_right))\n",
    "\n",
    "    return np.pad(img, pad_spec, mode=border)\n",
    "\n",
    "\n",
    "def box_sum(\n",
    "        img: np.ndarray,\n",
    "        k: int,\n",
    "        mode: Literal[\"valid\",\"same\"] = \"valid\",\n",
    "        border: Literal[\"constant\",\"edge\",\"reflect\"] = \"constant\"\n",
    ") -> np.ndarray:\n",
    "    padded_img = pad_image(img, k, mode, border)\n",
    "    ii = integral_image(padded_img)\n",
    "\n",
    "    return ii[k:, k:] - ii[:-k, k:] - ii[k:, :-k] + ii[:-k, :-k]"
   ],
   "id": "ba936fe6a9cec6c1",
   "outputs": [],
   "execution_count": 72
  },
  {
   "metadata": {
    "ExecuteTime": {
     "end_time": "2025-09-27T08:55:03.018877Z",
     "start_time": "2025-09-27T08:55:03.015713Z"
    }
   },
   "cell_type": "code",
   "source": [
    "def box_mean(\n",
    "    img: np.ndarray,\n",
    "    k: int,\n",
    "    mode: Literal[\"valid\",\"same\"] = \"valid\",\n",
    "    border: Literal[\"constant\",\"edge\",\"reflect\"] = \"constant\",\n",
    "    count_normalized: bool = False,\n",
    ") -> np.ndarray:\n",
    "    sums = box_sum(img, k, mode=mode, border=border)\n",
    "\n",
    "    if mode == \"valid\" or (mode == \"same\" and border in {\"edge\", \"reflect\"}) or not count_normalized:\n",
    "        return sums / (k * k)\n",
    "\n",
    "    ones = np.ones_like(img)\n",
    "    counts = box_sum(ones, k, mode=mode, border=border).astype(np.float64)\n",
    "\n",
    "    return sums / np.maximum(counts, 1.0)\n"
   ],
   "id": "c946a6f2b525ec91",
   "outputs": [],
   "execution_count": 73
  },
  {
   "metadata": {
    "ExecuteTime": {
     "end_time": "2025-09-27T08:55:03.064762Z",
     "start_time": "2025-09-27T08:55:03.062531Z"
    }
   },
   "cell_type": "code",
   "source": "img = np.arange(16).reshape((4, 4)) + 1",
   "id": "1647948da6928b3f",
   "outputs": [],
   "execution_count": 74
  },
  {
   "metadata": {
    "ExecuteTime": {
     "end_time": "2025-09-27T08:55:03.115291Z",
     "start_time": "2025-09-27T08:55:03.111920Z"
    }
   },
   "cell_type": "code",
   "source": "pad_image(img, 2, \"valid\", \"constant\")",
   "id": "b518b3533300f755",
   "outputs": [
    {
     "data": {
      "text/plain": [
       "array([[ 1,  2,  3,  4],\n",
       "       [ 5,  6,  7,  8],\n",
       "       [ 9, 10, 11, 12],\n",
       "       [13, 14, 15, 16]])"
      ]
     },
     "execution_count": 75,
     "metadata": {},
     "output_type": "execute_result"
    }
   ],
   "execution_count": 75
  },
  {
   "metadata": {
    "ExecuteTime": {
     "end_time": "2025-09-27T08:55:03.234679Z",
     "start_time": "2025-09-27T08:55:03.231157Z"
    }
   },
   "cell_type": "code",
   "source": "box_mean(img, 2, \"valid\", \"constant\")",
   "id": "627294cf3c63f7f2",
   "outputs": [
    {
     "data": {
      "text/plain": [
       "array([[ 3.5,  4.5,  5.5],\n",
       "       [ 7.5,  8.5,  9.5],\n",
       "       [11.5, 12.5, 13.5]])"
      ]
     },
     "execution_count": 76,
     "metadata": {},
     "output_type": "execute_result"
    }
   ],
   "execution_count": 76
  },
  {
   "metadata": {
    "ExecuteTime": {
     "end_time": "2025-09-27T08:55:03.499756Z",
     "start_time": "2025-09-27T08:55:03.497363Z"
    }
   },
   "cell_type": "code",
   "source": "box_mean(img, 2, \"valid\", \"constant\", count_normalized=True)",
   "id": "4900df56a678d8ce",
   "outputs": [
    {
     "data": {
      "text/plain": [
       "array([[ 3.5,  4.5,  5.5],\n",
       "       [ 7.5,  8.5,  9.5],\n",
       "       [11.5, 12.5, 13.5]])"
      ]
     },
     "execution_count": 77,
     "metadata": {},
     "output_type": "execute_result"
    }
   ],
   "execution_count": 77
  },
  {
   "metadata": {
    "ExecuteTime": {
     "end_time": "2025-09-27T08:55:03.617125Z",
     "start_time": "2025-09-27T08:55:03.613958Z"
    }
   },
   "cell_type": "code",
   "source": "pad_image(img, 2, \"valid\", \"edge\")",
   "id": "862eab4cfb128c2f",
   "outputs": [
    {
     "data": {
      "text/plain": [
       "array([[ 1,  2,  3,  4],\n",
       "       [ 5,  6,  7,  8],\n",
       "       [ 9, 10, 11, 12],\n",
       "       [13, 14, 15, 16]])"
      ]
     },
     "execution_count": 78,
     "metadata": {},
     "output_type": "execute_result"
    }
   ],
   "execution_count": 78
  },
  {
   "metadata": {
    "ExecuteTime": {
     "end_time": "2025-09-27T08:55:03.848186Z",
     "start_time": "2025-09-27T08:55:03.845309Z"
    }
   },
   "cell_type": "code",
   "source": "box_mean(img, 2, \"valid\", \"edge\")",
   "id": "7d94d4682d433bb0",
   "outputs": [
    {
     "data": {
      "text/plain": [
       "array([[ 3.5,  4.5,  5.5],\n",
       "       [ 7.5,  8.5,  9.5],\n",
       "       [11.5, 12.5, 13.5]])"
      ]
     },
     "execution_count": 79,
     "metadata": {},
     "output_type": "execute_result"
    }
   ],
   "execution_count": 79
  },
  {
   "metadata": {
    "ExecuteTime": {
     "end_time": "2025-09-27T08:55:04.018889Z",
     "start_time": "2025-09-27T08:55:04.014292Z"
    }
   },
   "cell_type": "code",
   "source": "box_mean(img, 2, \"valid\", \"edge\", count_normalized=True)",
   "id": "4d1f4ae875ee7731",
   "outputs": [
    {
     "data": {
      "text/plain": [
       "array([[ 3.5,  4.5,  5.5],\n",
       "       [ 7.5,  8.5,  9.5],\n",
       "       [11.5, 12.5, 13.5]])"
      ]
     },
     "execution_count": 80,
     "metadata": {},
     "output_type": "execute_result"
    }
   ],
   "execution_count": 80
  },
  {
   "metadata": {
    "ExecuteTime": {
     "end_time": "2025-09-27T08:55:04.268046Z",
     "start_time": "2025-09-27T08:55:04.265009Z"
    }
   },
   "cell_type": "code",
   "source": "pad_image(img, 2, \"valid\", \"reflect\")",
   "id": "49a859dbae5233dc",
   "outputs": [
    {
     "data": {
      "text/plain": [
       "array([[ 1,  2,  3,  4],\n",
       "       [ 5,  6,  7,  8],\n",
       "       [ 9, 10, 11, 12],\n",
       "       [13, 14, 15, 16]])"
      ]
     },
     "execution_count": 81,
     "metadata": {},
     "output_type": "execute_result"
    }
   ],
   "execution_count": 81
  },
  {
   "metadata": {
    "ExecuteTime": {
     "end_time": "2025-09-27T08:55:04.387505Z",
     "start_time": "2025-09-27T08:55:04.384766Z"
    }
   },
   "cell_type": "code",
   "source": "box_mean(img, 2, \"valid\", \"reflect\")",
   "id": "a7bc2834c6838fdf",
   "outputs": [
    {
     "data": {
      "text/plain": [
       "array([[ 3.5,  4.5,  5.5],\n",
       "       [ 7.5,  8.5,  9.5],\n",
       "       [11.5, 12.5, 13.5]])"
      ]
     },
     "execution_count": 82,
     "metadata": {},
     "output_type": "execute_result"
    }
   ],
   "execution_count": 82
  },
  {
   "metadata": {
    "ExecuteTime": {
     "end_time": "2025-09-27T08:55:04.633775Z",
     "start_time": "2025-09-27T08:55:04.629614Z"
    }
   },
   "cell_type": "code",
   "source": "box_mean(img, 2, \"valid\", \"reflect\", count_normalized=True)",
   "id": "71c32051d9eeb790",
   "outputs": [
    {
     "data": {
      "text/plain": [
       "array([[ 3.5,  4.5,  5.5],\n",
       "       [ 7.5,  8.5,  9.5],\n",
       "       [11.5, 12.5, 13.5]])"
      ]
     },
     "execution_count": 83,
     "metadata": {},
     "output_type": "execute_result"
    }
   ],
   "execution_count": 83
  },
  {
   "metadata": {
    "ExecuteTime": {
     "end_time": "2025-09-27T08:55:04.743580Z",
     "start_time": "2025-09-27T08:55:04.738444Z"
    }
   },
   "cell_type": "code",
   "source": "pad_image(img, 2, \"same\", \"constant\")",
   "id": "f0eb28e515102411",
   "outputs": [
    {
     "data": {
      "text/plain": [
       "array([[ 0,  0,  0,  0,  0],\n",
       "       [ 0,  1,  2,  3,  4],\n",
       "       [ 0,  5,  6,  7,  8],\n",
       "       [ 0,  9, 10, 11, 12],\n",
       "       [ 0, 13, 14, 15, 16]])"
      ]
     },
     "execution_count": 84,
     "metadata": {},
     "output_type": "execute_result"
    }
   ],
   "execution_count": 84
  },
  {
   "metadata": {
    "ExecuteTime": {
     "end_time": "2025-09-27T08:55:04.978126Z",
     "start_time": "2025-09-27T08:55:04.973974Z"
    }
   },
   "cell_type": "code",
   "source": "box_mean(img, 2, \"same\", \"constant\")",
   "id": "d651f96fd3b64f9e",
   "outputs": [
    {
     "data": {
      "text/plain": [
       "array([[ 0.25,  0.75,  1.25,  1.75],\n",
       "       [ 1.5 ,  3.5 ,  4.5 ,  5.5 ],\n",
       "       [ 3.5 ,  7.5 ,  8.5 ,  9.5 ],\n",
       "       [ 5.5 , 11.5 , 12.5 , 13.5 ]])"
      ]
     },
     "execution_count": 85,
     "metadata": {},
     "output_type": "execute_result"
    }
   ],
   "execution_count": 85
  },
  {
   "metadata": {
    "ExecuteTime": {
     "end_time": "2025-09-27T08:55:05.094187Z",
     "start_time": "2025-09-27T08:55:05.091130Z"
    }
   },
   "cell_type": "code",
   "source": "box_mean(img, 2, \"same\", \"constant\", count_normalized=True)",
   "id": "56248fd2087e0417",
   "outputs": [
    {
     "data": {
      "text/plain": [
       "array([[ 1. ,  1.5,  2.5,  3.5],\n",
       "       [ 3. ,  3.5,  4.5,  5.5],\n",
       "       [ 7. ,  7.5,  8.5,  9.5],\n",
       "       [11. , 11.5, 12.5, 13.5]])"
      ]
     },
     "execution_count": 86,
     "metadata": {},
     "output_type": "execute_result"
    }
   ],
   "execution_count": 86
  },
  {
   "metadata": {
    "ExecuteTime": {
     "end_time": "2025-09-27T08:55:05.346148Z",
     "start_time": "2025-09-27T08:55:05.343368Z"
    }
   },
   "cell_type": "code",
   "source": "pad_image(img, 2, \"same\", \"edge\")",
   "id": "c8fbf72fe856bfd",
   "outputs": [
    {
     "data": {
      "text/plain": [
       "array([[ 1,  1,  2,  3,  4],\n",
       "       [ 1,  1,  2,  3,  4],\n",
       "       [ 5,  5,  6,  7,  8],\n",
       "       [ 9,  9, 10, 11, 12],\n",
       "       [13, 13, 14, 15, 16]])"
      ]
     },
     "execution_count": 87,
     "metadata": {},
     "output_type": "execute_result"
    }
   ],
   "execution_count": 87
  },
  {
   "metadata": {
    "ExecuteTime": {
     "end_time": "2025-09-27T08:55:05.458283Z",
     "start_time": "2025-09-27T08:55:05.455256Z"
    }
   },
   "cell_type": "code",
   "source": "box_mean(img, 2, \"same\", \"edge\")",
   "id": "4ca40f1e732a6d2f",
   "outputs": [
    {
     "data": {
      "text/plain": [
       "array([[ 1. ,  1.5,  2.5,  3.5],\n",
       "       [ 3. ,  3.5,  4.5,  5.5],\n",
       "       [ 7. ,  7.5,  8.5,  9.5],\n",
       "       [11. , 11.5, 12.5, 13.5]])"
      ]
     },
     "execution_count": 88,
     "metadata": {},
     "output_type": "execute_result"
    }
   ],
   "execution_count": 88
  },
  {
   "metadata": {
    "ExecuteTime": {
     "end_time": "2025-09-27T08:55:05.689861Z",
     "start_time": "2025-09-27T08:55:05.687635Z"
    }
   },
   "cell_type": "code",
   "source": "box_mean(img, 2, \"same\", \"edge\", count_normalized=True)",
   "id": "5d956cd6b4670efd",
   "outputs": [
    {
     "data": {
      "text/plain": [
       "array([[ 1. ,  1.5,  2.5,  3.5],\n",
       "       [ 3. ,  3.5,  4.5,  5.5],\n",
       "       [ 7. ,  7.5,  8.5,  9.5],\n",
       "       [11. , 11.5, 12.5, 13.5]])"
      ]
     },
     "execution_count": 89,
     "metadata": {},
     "output_type": "execute_result"
    }
   ],
   "execution_count": 89
  },
  {
   "metadata": {
    "ExecuteTime": {
     "end_time": "2025-09-27T08:55:05.804753Z",
     "start_time": "2025-09-27T08:55:05.802614Z"
    }
   },
   "cell_type": "code",
   "source": "pad_image(img, 2, \"same\", \"reflect\")",
   "id": "4df4aaa6718029d5",
   "outputs": [
    {
     "data": {
      "text/plain": [
       "array([[ 6,  5,  6,  7,  8],\n",
       "       [ 2,  1,  2,  3,  4],\n",
       "       [ 6,  5,  6,  7,  8],\n",
       "       [10,  9, 10, 11, 12],\n",
       "       [14, 13, 14, 15, 16]])"
      ]
     },
     "execution_count": 90,
     "metadata": {},
     "output_type": "execute_result"
    }
   ],
   "execution_count": 90
  },
  {
   "metadata": {
    "ExecuteTime": {
     "end_time": "2025-09-27T08:55:06.118152Z",
     "start_time": "2025-09-27T08:55:06.114189Z"
    }
   },
   "cell_type": "code",
   "source": "box_mean(img, 2, \"same\", \"reflect\")",
   "id": "2e73ddbbfc032441",
   "outputs": [
    {
     "data": {
      "text/plain": [
       "array([[ 3.5,  3.5,  4.5,  5.5],\n",
       "       [ 3.5,  3.5,  4.5,  5.5],\n",
       "       [ 7.5,  7.5,  8.5,  9.5],\n",
       "       [11.5, 11.5, 12.5, 13.5]])"
      ]
     },
     "execution_count": 91,
     "metadata": {},
     "output_type": "execute_result"
    }
   ],
   "execution_count": 91
  },
  {
   "metadata": {
    "ExecuteTime": {
     "end_time": "2025-09-27T08:55:06.233644Z",
     "start_time": "2025-09-27T08:55:06.229958Z"
    }
   },
   "cell_type": "code",
   "source": "box_mean(img, 2, \"same\", \"reflect\", count_normalized=True)",
   "id": "f67007d45692dad2",
   "outputs": [
    {
     "data": {
      "text/plain": [
       "array([[ 3.5,  3.5,  4.5,  5.5],\n",
       "       [ 3.5,  3.5,  4.5,  5.5],\n",
       "       [ 7.5,  7.5,  8.5,  9.5],\n",
       "       [11.5, 11.5, 12.5, 13.5]])"
      ]
     },
     "execution_count": 92,
     "metadata": {},
     "output_type": "execute_result"
    }
   ],
   "execution_count": 92
  },
  {
   "metadata": {
    "ExecuteTime": {
     "end_time": "2025-09-27T08:55:06.457951Z",
     "start_time": "2025-09-27T08:55:06.456426Z"
    }
   },
   "cell_type": "code",
   "source": "",
   "id": "68a4a7bf06339ba",
   "outputs": [],
   "execution_count": null
  }
 ],
 "metadata": {
  "kernelspec": {
   "display_name": "Python 3",
   "language": "python",
   "name": "python3"
  },
  "language_info": {
   "codemirror_mode": {
    "name": "ipython",
    "version": 2
   },
   "file_extension": ".py",
   "mimetype": "text/x-python",
   "name": "python",
   "nbconvert_exporter": "python",
   "pygments_lexer": "ipython2",
   "version": "2.7.6"
  }
 },
 "nbformat": 4,
 "nbformat_minor": 5
}
