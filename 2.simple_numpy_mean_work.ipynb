{
 "cells": [
  {
   "cell_type": "code",
   "id": "initial_id",
   "metadata": {
    "collapsed": true,
    "ExecuteTime": {
     "end_time": "2025-09-18T05:02:36.408303Z",
     "start_time": "2025-09-18T05:02:36.376018Z"
    }
   },
   "source": "import numpy as np",
   "outputs": [],
   "execution_count": 1
  },
  {
   "metadata": {
    "ExecuteTime": {
     "end_time": "2025-09-18T05:08:47.782186Z",
     "start_time": "2025-09-18T05:08:47.779076Z"
    }
   },
   "cell_type": "code",
   "source": [
    "arr = np.random.randint(0, 9, (4, 4))\n",
    "arr"
   ],
   "id": "cbba02c1ee14fd65",
   "outputs": [
    {
     "data": {
      "text/plain": [
       "array([[1, 0, 2, 5],\n",
       "       [2, 1, 5, 3],\n",
       "       [0, 6, 3, 0],\n",
       "       [5, 6, 1, 1]])"
      ]
     },
     "execution_count": 3,
     "metadata": {},
     "output_type": "execute_result"
    }
   ],
   "execution_count": 3
  },
  {
   "metadata": {
    "ExecuteTime": {
     "end_time": "2025-09-18T05:09:14.109984Z",
     "start_time": "2025-09-18T05:09:14.106800Z"
    }
   },
   "cell_type": "code",
   "source": [
    "mean_centered = arr - arr.mean()\n",
    "mean_centered"
   ],
   "id": "2ed32fe868609bd3",
   "outputs": [
    {
     "data": {
      "text/plain": [
       "array([[-1.5625, -2.5625, -0.5625,  2.4375],\n",
       "       [-0.5625, -1.5625,  2.4375,  0.4375],\n",
       "       [-2.5625,  3.4375,  0.4375, -2.5625],\n",
       "       [ 2.4375,  3.4375, -1.5625, -1.5625]])"
      ]
     },
     "execution_count": 4,
     "metadata": {},
     "output_type": "execute_result"
    }
   ],
   "execution_count": 4
  },
  {
   "metadata": {
    "ExecuteTime": {
     "end_time": "2025-09-18T05:10:23.884641Z",
     "start_time": "2025-09-18T05:10:23.882306Z"
    }
   },
   "cell_type": "code",
   "source": [
    "multiplied = arr * np.array([1, 2, 3, 4])\n",
    "multiplied"
   ],
   "id": "613d6a08d7125e0d",
   "outputs": [
    {
     "data": {
      "text/plain": [
       "array([[ 1,  0,  6, 20],\n",
       "       [ 2,  2, 15, 12],\n",
       "       [ 0, 12,  9,  0],\n",
       "       [ 5, 12,  3,  4]])"
      ]
     },
     "execution_count": 6,
     "metadata": {},
     "output_type": "execute_result"
    }
   ],
   "execution_count": 6
  },
  {
   "metadata": {
    "ExecuteTime": {
     "end_time": "2025-09-18T05:11:28.235880Z",
     "start_time": "2025-09-18T05:11:28.232789Z"
    }
   },
   "cell_type": "code",
   "source": [
    "summed = arr.sum(axis=1)\n",
    "summed"
   ],
   "id": "54438afe376fb3ca",
   "outputs": [
    {
     "data": {
      "text/plain": [
       "array([ 8, 11,  9, 13])"
      ]
     },
     "execution_count": 7,
     "metadata": {},
     "output_type": "execute_result"
    }
   ],
   "execution_count": 7
  },
  {
   "metadata": {},
   "cell_type": "code",
   "outputs": [],
   "execution_count": null,
   "source": "",
   "id": "157faa154e221849"
  }
 ],
 "metadata": {
  "kernelspec": {
   "display_name": "Python 3",
   "language": "python",
   "name": "python3"
  },
  "language_info": {
   "codemirror_mode": {
    "name": "ipython",
    "version": 2
   },
   "file_extension": ".py",
   "mimetype": "text/x-python",
   "name": "python",
   "nbconvert_exporter": "python",
   "pygments_lexer": "ipython2",
   "version": "2.7.6"
  }
 },
 "nbformat": 4,
 "nbformat_minor": 5
}
