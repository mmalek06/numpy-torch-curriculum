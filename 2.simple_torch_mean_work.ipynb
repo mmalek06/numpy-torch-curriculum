{
 "cells": [
  {
   "cell_type": "code",
   "id": "initial_id",
   "metadata": {
    "collapsed": true,
    "ExecuteTime": {
     "end_time": "2025-09-18T05:12:57.449976Z",
     "start_time": "2025-09-18T05:12:56.784964Z"
    }
   },
   "source": "import torch",
   "outputs": [],
   "execution_count": 1
  },
  {
   "metadata": {
    "ExecuteTime": {
     "end_time": "2025-09-18T05:14:07.741357Z",
     "start_time": "2025-09-18T05:14:07.737307Z"
    }
   },
   "cell_type": "code",
   "source": [
    "arr = torch.randint(0, 9, (4, 4), dtype=torch.float32)\n",
    "arr"
   ],
   "id": "ec02c596624ddf2c",
   "outputs": [
    {
     "data": {
      "text/plain": [
       "tensor([[6., 7., 7., 8.],\n",
       "        [8., 7., 4., 6.],\n",
       "        [0., 0., 6., 4.],\n",
       "        [1., 1., 3., 2.]])"
      ]
     },
     "execution_count": 4,
     "metadata": {},
     "output_type": "execute_result"
    }
   ],
   "execution_count": 4
  },
  {
   "metadata": {
    "ExecuteTime": {
     "end_time": "2025-09-18T05:14:09.167733Z",
     "start_time": "2025-09-18T05:14:09.164940Z"
    }
   },
   "cell_type": "code",
   "source": [
    "mean_centered = arr - arr.mean()\n",
    "mean_centered"
   ],
   "id": "7e3a651563ecee09",
   "outputs": [
    {
     "data": {
      "text/plain": [
       "tensor([[ 1.6250,  2.6250,  2.6250,  3.6250],\n",
       "        [ 3.6250,  2.6250, -0.3750,  1.6250],\n",
       "        [-4.3750, -4.3750,  1.6250, -0.3750],\n",
       "        [-3.3750, -3.3750, -1.3750, -2.3750]])"
      ]
     },
     "execution_count": 5,
     "metadata": {},
     "output_type": "execute_result"
    }
   ],
   "execution_count": 5
  },
  {
   "metadata": {
    "ExecuteTime": {
     "end_time": "2025-09-18T05:14:53.073635Z",
     "start_time": "2025-09-18T05:14:53.071021Z"
    }
   },
   "cell_type": "code",
   "source": [
    "multiplied = arr * torch.Tensor([1, 2, 3, 4])\n",
    "multiplied"
   ],
   "id": "1af6a21b0a205a10",
   "outputs": [
    {
     "data": {
      "text/plain": [
       "tensor([[ 6., 14., 21., 32.],\n",
       "        [ 8., 14., 12., 24.],\n",
       "        [ 0.,  0., 18., 16.],\n",
       "        [ 1.,  2.,  9.,  8.]])"
      ]
     },
     "execution_count": 6,
     "metadata": {},
     "output_type": "execute_result"
    }
   ],
   "execution_count": 6
  },
  {
   "metadata": {
    "ExecuteTime": {
     "end_time": "2025-09-18T05:16:14.103068Z",
     "start_time": "2025-09-18T05:16:14.099637Z"
    }
   },
   "cell_type": "code",
   "source": [
    "summed = arr.sum(dim=1)\n",
    "summed"
   ],
   "id": "fe4525516b7f751e",
   "outputs": [
    {
     "data": {
      "text/plain": [
       "tensor([28., 25., 10.,  7.])"
      ]
     },
     "execution_count": 8,
     "metadata": {},
     "output_type": "execute_result"
    }
   ],
   "execution_count": 8
  },
  {
   "metadata": {},
   "cell_type": "code",
   "outputs": [],
   "execution_count": null,
   "source": "",
   "id": "3dfab82edd414d21"
  }
 ],
 "metadata": {
  "kernelspec": {
   "display_name": "Python 3",
   "language": "python",
   "name": "python3"
  },
  "language_info": {
   "codemirror_mode": {
    "name": "ipython",
    "version": 2
   },
   "file_extension": ".py",
   "mimetype": "text/x-python",
   "name": "python",
   "nbconvert_exporter": "python",
   "pygments_lexer": "ipython2",
   "version": "2.7.6"
  }
 },
 "nbformat": 4,
 "nbformat_minor": 5
}
