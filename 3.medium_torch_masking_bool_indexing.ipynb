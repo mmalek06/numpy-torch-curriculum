{
 "cells": [
  {
   "cell_type": "code",
   "id": "initial_id",
   "metadata": {
    "collapsed": true,
    "ExecuteTime": {
     "end_time": "2025-09-18T05:39:12.615991Z",
     "start_time": "2025-09-18T05:39:11.956878Z"
    }
   },
   "source": "import torch",
   "outputs": [],
   "execution_count": 1
  },
  {
   "metadata": {
    "ExecuteTime": {
     "end_time": "2025-09-18T06:18:01.916957Z",
     "start_time": "2025-09-18T06:18:01.911986Z"
    }
   },
   "cell_type": "code",
   "source": [
    "arr = torch.randint(0, 20, (6, 6))\n",
    "arr"
   ],
   "id": "7ced535ea20d2fd0",
   "outputs": [
    {
     "data": {
      "text/plain": [
       "tensor([[10, 15, 14, 15,  4, 10],\n",
       "        [ 4,  7, 11,  2,  8,  1],\n",
       "        [15, 16, 18,  0, 15,  6],\n",
       "        [ 1, 14, 14,  9, 13,  0],\n",
       "        [14,  6, 12,  8,  6,  3],\n",
       "        [10, 16, 16,  4,  6,  6]])"
      ]
     },
     "execution_count": 2,
     "metadata": {},
     "output_type": "execute_result"
    }
   ],
   "execution_count": 2
  },
  {
   "metadata": {
    "ExecuteTime": {
     "end_time": "2025-09-18T06:18:15.998308Z",
     "start_time": "2025-09-18T06:18:15.995862Z"
    }
   },
   "cell_type": "code",
   "source": [
    "arr[arr % 2 == 0] = -1\n",
    "arr"
   ],
   "id": "527b320f2ac3e810",
   "outputs": [
    {
     "data": {
      "text/plain": [
       "tensor([[-1, 15, -1, 15, -1, -1],\n",
       "        [-1,  7, 11, -1, -1,  1],\n",
       "        [15, -1, -1, -1, 15, -1],\n",
       "        [ 1, -1, -1,  9, 13, -1],\n",
       "        [-1, -1, -1, -1, -1,  3],\n",
       "        [-1, -1, -1, -1, -1, -1]])"
      ]
     },
     "execution_count": 3,
     "metadata": {},
     "output_type": "execute_result"
    }
   ],
   "execution_count": 3
  },
  {
   "metadata": {
    "ExecuteTime": {
     "end_time": "2025-09-18T06:18:28.739580Z",
     "start_time": "2025-09-18T06:18:28.737441Z"
    }
   },
   "cell_type": "code",
   "source": [
    "gt10 = arr[arr > 10]\n",
    "gt10"
   ],
   "id": "a6e0a8e06cfd6ddb",
   "outputs": [
    {
     "data": {
      "text/plain": [
       "tensor([15, 15, 11, 15, 15, 13])"
      ]
     },
     "execution_count": 4,
     "metadata": {},
     "output_type": "execute_result"
    }
   ],
   "execution_count": 4
  },
  {
   "metadata": {
    "ExecuteTime": {
     "end_time": "2025-09-18T06:18:44.848288Z",
     "start_time": "2025-09-18T06:18:44.845655Z"
    }
   },
   "cell_type": "code",
   "source": [
    "diag = arr[torch.arange(6), torch.arange(6)]\n",
    "diag"
   ],
   "id": "1f90fb0123dcf7e6",
   "outputs": [
    {
     "data": {
      "text/plain": [
       "tensor([-1,  7, -1,  9, -1, -1])"
      ]
     },
     "execution_count": 5,
     "metadata": {},
     "output_type": "execute_result"
    }
   ],
   "execution_count": 5
  },
  {
   "metadata": {},
   "cell_type": "code",
   "outputs": [],
   "execution_count": null,
   "source": "",
   "id": "78b0bdafd77d1e40"
  }
 ],
 "metadata": {
  "kernelspec": {
   "display_name": "Python 3",
   "language": "python",
   "name": "python3"
  },
  "language_info": {
   "codemirror_mode": {
    "name": "ipython",
    "version": 2
   },
   "file_extension": ".py",
   "mimetype": "text/x-python",
   "name": "python",
   "nbconvert_exporter": "python",
   "pygments_lexer": "ipython2",
   "version": "2.7.6"
  }
 },
 "nbformat": 4,
 "nbformat_minor": 5
}
