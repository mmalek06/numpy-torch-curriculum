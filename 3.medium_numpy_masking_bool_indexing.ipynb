{
 "cells": [
  {
   "cell_type": "code",
   "id": "initial_id",
   "metadata": {
    "collapsed": true,
    "ExecuteTime": {
     "end_time": "2025-09-18T05:17:28.080962Z",
     "start_time": "2025-09-18T05:17:28.051169Z"
    }
   },
   "source": "import numpy as np",
   "outputs": [],
   "execution_count": 1
  },
  {
   "metadata": {
    "ExecuteTime": {
     "end_time": "2025-09-18T05:17:51.281871Z",
     "start_time": "2025-09-18T05:17:51.275599Z"
    }
   },
   "cell_type": "code",
   "source": [
    "arr = np.random.randint(0, 20, (6, 6))\n",
    "arr"
   ],
   "id": "43b251722dda180a",
   "outputs": [
    {
     "data": {
      "text/plain": [
       "array([[ 1, 18,  1, 17, 10,  9],\n",
       "       [ 2,  3,  7, 16,  7,  3],\n",
       "       [18,  7, 11, 15, 15, 19],\n",
       "       [12, 19,  4,  8,  3, 18],\n",
       "       [11, 15, 14, 13, 18,  3],\n",
       "       [ 3, 15, 10,  4, 18,  1]])"
      ]
     },
     "execution_count": 2,
     "metadata": {},
     "output_type": "execute_result"
    }
   ],
   "execution_count": 2
  },
  {
   "metadata": {
    "ExecuteTime": {
     "end_time": "2025-09-18T05:19:50.180686Z",
     "start_time": "2025-09-18T05:19:50.178499Z"
    }
   },
   "cell_type": "code",
   "source": [
    "arr[arr % 2 == 0] = -1\n",
    "arr"
   ],
   "id": "a48605c04374c1c1",
   "outputs": [
    {
     "data": {
      "text/plain": [
       "array([[ 1, -1,  1, 17, -1,  9],\n",
       "       [-1,  3,  7, -1,  7,  3],\n",
       "       [-1,  7, 11, 15, 15, 19],\n",
       "       [-1, 19, -1, -1,  3, -1],\n",
       "       [11, 15, -1, 13, -1,  3],\n",
       "       [ 3, 15, -1, -1, -1,  1]])"
      ]
     },
     "execution_count": 5,
     "metadata": {},
     "output_type": "execute_result"
    }
   ],
   "execution_count": 5
  },
  {
   "metadata": {
    "ExecuteTime": {
     "end_time": "2025-09-18T05:20:14.468922Z",
     "start_time": "2025-09-18T05:20:14.466896Z"
    }
   },
   "cell_type": "code",
   "source": [
    "gt10 = arr[arr > 10]\n",
    "gt10"
   ],
   "id": "7edeb38147596c30",
   "outputs": [
    {
     "data": {
      "text/plain": [
       "array([17, 11, 15, 15, 19, 19, 11, 15, 13, 15])"
      ]
     },
     "execution_count": 6,
     "metadata": {},
     "output_type": "execute_result"
    }
   ],
   "execution_count": 6
  },
  {
   "metadata": {
    "ExecuteTime": {
     "end_time": "2025-09-18T05:37:30.981423Z",
     "start_time": "2025-09-18T05:37:30.978851Z"
    }
   },
   "cell_type": "code",
   "source": [
    "diag = arr[np.arange(6), np.arange(6)]\n",
    "diag"
   ],
   "id": "49e1c73325fc424a",
   "outputs": [
    {
     "data": {
      "text/plain": [
       "array([ 1,  3, 11, -1, -1,  1])"
      ]
     },
     "execution_count": 9,
     "metadata": {},
     "output_type": "execute_result"
    }
   ],
   "execution_count": 9
  },
  {
   "metadata": {},
   "cell_type": "code",
   "outputs": [],
   "execution_count": null,
   "source": "",
   "id": "e2b9dab30037d60f"
  }
 ],
 "metadata": {
  "kernelspec": {
   "display_name": "Python 3",
   "language": "python",
   "name": "python3"
  },
  "language_info": {
   "codemirror_mode": {
    "name": "ipython",
    "version": 2
   },
   "file_extension": ".py",
   "mimetype": "text/x-python",
   "name": "python",
   "nbconvert_exporter": "python",
   "pygments_lexer": "ipython2",
   "version": "2.7.6"
  }
 },
 "nbformat": 4,
 "nbformat_minor": 5
}
