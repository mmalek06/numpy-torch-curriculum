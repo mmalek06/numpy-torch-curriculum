{
 "cells": [
  {
   "cell_type": "code",
   "id": "initial_id",
   "metadata": {
    "collapsed": true,
    "ExecuteTime": {
     "end_time": "2025-10-02T06:02:39.087073Z",
     "start_time": "2025-10-02T06:02:39.085288Z"
    }
   },
   "source": [
    "import matplotlib.pyplot as plt\n",
    "import numpy as np"
   ],
   "outputs": [],
   "execution_count": 16
  },
  {
   "metadata": {
    "ExecuteTime": {
     "end_time": "2025-10-02T06:02:39.132922Z",
     "start_time": "2025-10-02T06:02:39.130707Z"
    }
   },
   "cell_type": "code",
   "source": [
    "img = np.array([\n",
    "    [10, 10, 10, 0, 0, 0, 0],\n",
    "    [10, 10, 10, 0, 0, 0, 0],\n",
    "    [10, 10, 10, 0, 0, 0, 0],\n",
    "    [10, 10, 10, 0, 0, 0, 0],\n",
    "    [10, 10, 10, 0, 0, 0, 0],\n",
    "    [10, 10, 10, 0, 0, 0, 0],\n",
    "    [10, 10, 10, 0, 0, 0, 0]\n",
    "], dtype=np.int64)"
   ],
   "id": "89c02f05a4f90733",
   "outputs": [],
   "execution_count": 17
  },
  {
   "metadata": {
    "ExecuteTime": {
     "end_time": "2025-10-02T06:02:39.182819Z",
     "start_time": "2025-10-02T06:02:39.178337Z"
    }
   },
   "cell_type": "code",
   "source": [
    "def box_sum(img: np.ndarray, k: int) -> np.ndarray:\n",
    "    ii = img.cumsum(axis=0).cumsum(axis=1)\n",
    "    ii = np.pad(ii, ((1, 0), (1, 0)), mode=\"constant\")\n",
    "\n",
    "    return ii[k:, k:] - ii[:-k, k:] - ii[k:, :-k] + ii[:-k, :-k]\n",
    "\n",
    "\n",
    "def blur(img: np.ndarray, k: int) -> np.ndarray:\n",
    "    pad_amount_total = k - 1\n",
    "    q, r = divmod(pad_amount_total, 2)\n",
    "    pad_left_top = q + r\n",
    "    pad_right_bottom = q\n",
    "    img_pad = np.pad(img, ((pad_left_top, pad_right_bottom), (pad_left_top, pad_right_bottom)), mode=\"reflect\")\n",
    "    box_summed = box_sum(img_pad, k)\n",
    "    result = box_summed / (k**2)\n",
    "\n",
    "    return result\n",
    "\n",
    "\n",
    "blur(img, 3)"
   ],
   "id": "eac8d02a7d00bcb3",
   "outputs": [
    {
     "data": {
      "text/plain": [
       "array([[10.        , 10.        ,  6.66666667,  3.33333333,  0.        ,\n",
       "         0.        ,  0.        ],\n",
       "       [10.        , 10.        ,  6.66666667,  3.33333333,  0.        ,\n",
       "         0.        ,  0.        ],\n",
       "       [10.        , 10.        ,  6.66666667,  3.33333333,  0.        ,\n",
       "         0.        ,  0.        ],\n",
       "       [10.        , 10.        ,  6.66666667,  3.33333333,  0.        ,\n",
       "         0.        ,  0.        ],\n",
       "       [10.        , 10.        ,  6.66666667,  3.33333333,  0.        ,\n",
       "         0.        ,  0.        ],\n",
       "       [10.        , 10.        ,  6.66666667,  3.33333333,  0.        ,\n",
       "         0.        ,  0.        ],\n",
       "       [10.        , 10.        ,  6.66666667,  3.33333333,  0.        ,\n",
       "         0.        ,  0.        ]])"
      ]
     },
     "execution_count": 18,
     "metadata": {},
     "output_type": "execute_result"
    }
   ],
   "execution_count": 18
  },
  {
   "metadata": {
    "ExecuteTime": {
     "end_time": "2025-10-02T06:02:39.340384Z",
     "start_time": "2025-10-02T06:02:39.288952Z"
    }
   },
   "cell_type": "code",
   "source": "plt.imshow(blur(img, 3), cmap=\"gray\")",
   "id": "bbf64b5c521a3d2c",
   "outputs": [
    {
     "data": {
      "text/plain": [
       "<matplotlib.image.AxesImage at 0x7d47200b9a90>"
      ]
     },
     "execution_count": 19,
     "metadata": {},
     "output_type": "execute_result"
    },
    {
     "data": {
      "text/plain": [
       "<Figure size 640x480 with 1 Axes>"
      ],
      "image/png": "[encoded data removed]"
     },
     "metadata": {},
     "output_type": "display_data",
     "jetTransient": {
      "display_id": null
     }
    }
   ],
   "execution_count": 19
  },
  {
   "metadata": {
    "ExecuteTime": {
     "end_time": "2025-10-02T06:02:39.479664Z",
     "start_time": "2025-10-02T06:02:39.430545Z"
    }
   },
   "cell_type": "code",
   "source": [
    "def sharpen(original: np.ndarray, blurred: np.ndarray) -> np.ndarray:\n",
    "    result = original + 1.0 * (original - blurred)\n",
    "    result_u8 = np.clip(result, 0, 255).round().astype(np.uint8)\n",
    "\n",
    "    return result_u8\n",
    "\n",
    "\n",
    "plt.imshow(sharpen(img, blur(img, 3)), cmap=\"gray\")"
   ],
   "id": "8baab2435607131f",
   "outputs": [
    {
     "data": {
      "text/plain": [
       "<matplotlib.image.AxesImage at 0x7d472001c910>"
      ]
     },
     "execution_count": 20,
     "metadata": {},
     "output_type": "execute_result"
    },
    {
     "data": {
      "text/plain": [
       "<Figure size 640x480 with 1 Axes>"
      ],
      "image/png": "[encoded data removed]"
     },
     "metadata": {},
     "output_type": "display_data",
     "jetTransient": {
      "display_id": null
     }
    }
   ],
   "execution_count": 20
  },
  {
   "metadata": {
    "ExecuteTime": {
     "end_time": "2025-10-02T06:02:39.486314Z",
     "start_time": "2025-10-02T06:02:39.485123Z"
    }
   },
   "cell_type": "code",
   "source": "",
   "id": "380c96cfcfb59cf2",
   "outputs": [],
   "execution_count": null
  }
 ],
 "metadata": {
  "kernelspec": {
   "display_name": "Python 3",
   "language": "python",
   "name": "python3"
  },
  "language_info": {
   "codemirror_mode": {
    "name": "ipython",
    "version": 2
   },
   "file_extension": ".py",
   "mimetype": "text/x-python",
   "name": "python",
   "nbconvert_exporter": "python",
   "pygments_lexer": "ipython2",
   "version": "2.7.6"
  }
 },
 "nbformat": 4,
 "nbformat_minor": 5
}
